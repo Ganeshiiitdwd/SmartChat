{
 "cells": [
  {
   "cell_type": "code",
   "execution_count": 1,
   "metadata": {},
   "outputs": [
    {
     "name": "stdout",
     "output_type": "stream",
     "text": [
      "Looking in indexes: https://pypi.org/simple, https://pypi.ngc.nvidia.com\n",
      "Requirement already satisfied: transformers in /home/iiitd/anaconda3/envs/LLM/lib/python3.12/site-packages (4.49.0)\n",
      "Requirement already satisfied: torch in /home/iiitd/anaconda3/envs/LLM/lib/python3.12/site-packages (2.6.0)\n",
      "Requirement already satisfied: torchvision in /home/iiitd/anaconda3/envs/LLM/lib/python3.12/site-packages (0.21.0)\n",
      "Requirement already satisfied: torchaudio in /home/iiitd/anaconda3/envs/LLM/lib/python3.12/site-packages (2.4.1)\n",
      "Requirement already satisfied: accelerate in /home/iiitd/anaconda3/envs/LLM/lib/python3.12/site-packages (1.4.0)\n",
      "Requirement already satisfied: datasets in /home/iiitd/anaconda3/envs/LLM/lib/python3.12/site-packages (3.3.2)\n",
      "Requirement already satisfied: sentencepiece in /home/iiitd/anaconda3/envs/LLM/lib/python3.12/site-packages (0.2.0)\n",
      "Requirement already satisfied: sacrebleu in /home/iiitd/anaconda3/envs/LLM/lib/python3.12/site-packages (2.5.1)\n",
      "Requirement already satisfied: huggingface_hub in /home/iiitd/anaconda3/envs/LLM/lib/python3.12/site-packages (0.29.3)\n",
      "Requirement already satisfied: protobuf in /home/iiitd/anaconda3/envs/LLM/lib/python3.12/site-packages (6.30.0)\n",
      "Requirement already satisfied: google in /home/iiitd/anaconda3/envs/LLM/lib/python3.12/site-packages (3.0.0)\n",
      "Requirement already satisfied: filelock in /home/iiitd/anaconda3/envs/LLM/lib/python3.12/site-packages (from transformers) (3.13.1)\n",
      "Requirement already satisfied: numpy>=1.17 in /home/iiitd/anaconda3/envs/LLM/lib/python3.12/site-packages (from transformers) (1.26.4)\n",
      "Requirement already satisfied: packaging>=20.0 in /home/iiitd/anaconda3/envs/LLM/lib/python3.12/site-packages (from transformers) (24.2)\n",
      "Requirement already satisfied: pyyaml>=5.1 in /home/iiitd/anaconda3/envs/LLM/lib/python3.12/site-packages (from transformers) (6.0.2)\n",
      "Requirement already satisfied: regex!=2019.12.17 in /home/iiitd/anaconda3/envs/LLM/lib/python3.12/site-packages (from transformers) (2024.11.6)\n",
      "Requirement already satisfied: requests in /home/iiitd/anaconda3/envs/LLM/lib/python3.12/site-packages (from transformers) (2.32.3)\n",
      "Requirement already satisfied: tokenizers<0.22,>=0.21 in /home/iiitd/anaconda3/envs/LLM/lib/python3.12/site-packages (from transformers) (0.21.0)\n",
      "Requirement already satisfied: safetensors>=0.4.1 in /home/iiitd/anaconda3/envs/LLM/lib/python3.12/site-packages (from transformers) (0.5.3)\n",
      "Requirement already satisfied: tqdm>=4.27 in /home/iiitd/anaconda3/envs/LLM/lib/python3.12/site-packages (from transformers) (4.67.1)\n",
      "Requirement already satisfied: typing-extensions>=4.10.0 in /home/iiitd/anaconda3/envs/LLM/lib/python3.12/site-packages (from torch) (4.12.2)\n",
      "Requirement already satisfied: networkx in /home/iiitd/anaconda3/envs/LLM/lib/python3.12/site-packages (from torch) (3.4.2)\n",
      "Requirement already satisfied: jinja2 in /home/iiitd/anaconda3/envs/LLM/lib/python3.12/site-packages (from torch) (3.1.5)\n",
      "Requirement already satisfied: fsspec in /home/iiitd/anaconda3/envs/LLM/lib/python3.12/site-packages (from torch) (2024.12.0)\n",
      "Requirement already satisfied: nvidia-cuda-nvrtc-cu12==12.4.127 in /home/iiitd/anaconda3/envs/LLM/lib/python3.12/site-packages (from torch) (12.4.127)\n",
      "Requirement already satisfied: nvidia-cuda-runtime-cu12==12.4.127 in /home/iiitd/anaconda3/envs/LLM/lib/python3.12/site-packages (from torch) (12.4.127)\n",
      "Requirement already satisfied: nvidia-cuda-cupti-cu12==12.4.127 in /home/iiitd/anaconda3/envs/LLM/lib/python3.12/site-packages (from torch) (12.4.127)\n",
      "Requirement already satisfied: nvidia-cudnn-cu12==9.1.0.70 in /home/iiitd/anaconda3/envs/LLM/lib/python3.12/site-packages (from torch) (9.1.0.70)\n",
      "Requirement already satisfied: nvidia-cublas-cu12==12.4.5.8 in /home/iiitd/anaconda3/envs/LLM/lib/python3.12/site-packages (from torch) (12.4.5.8)\n",
      "Requirement already satisfied: nvidia-cufft-cu12==11.2.1.3 in /home/iiitd/anaconda3/envs/LLM/lib/python3.12/site-packages (from torch) (11.2.1.3)\n",
      "Requirement already satisfied: nvidia-curand-cu12==10.3.5.147 in /home/iiitd/anaconda3/envs/LLM/lib/python3.12/site-packages (from torch) (10.3.5.147)\n",
      "Requirement already satisfied: nvidia-cusolver-cu12==11.6.1.9 in /home/iiitd/anaconda3/envs/LLM/lib/python3.12/site-packages (from torch) (11.6.1.9)\n",
      "Requirement already satisfied: nvidia-cusparse-cu12==12.3.1.170 in /home/iiitd/anaconda3/envs/LLM/lib/python3.12/site-packages (from torch) (12.3.1.170)\n",
      "Requirement already satisfied: nvidia-cusparselt-cu12==0.6.2 in /home/iiitd/anaconda3/envs/LLM/lib/python3.12/site-packages (from torch) (0.6.2)\n",
      "Requirement already satisfied: nvidia-nccl-cu12==2.21.5 in /home/iiitd/anaconda3/envs/LLM/lib/python3.12/site-packages (from torch) (2.21.5)\n",
      "Requirement already satisfied: nvidia-nvtx-cu12==12.4.127 in /home/iiitd/anaconda3/envs/LLM/lib/python3.12/site-packages (from torch) (12.4.127)\n",
      "Requirement already satisfied: nvidia-nvjitlink-cu12==12.4.127 in /home/iiitd/anaconda3/envs/LLM/lib/python3.12/site-packages (from torch) (12.4.127)\n",
      "Requirement already satisfied: triton==3.2.0 in /home/iiitd/anaconda3/envs/LLM/lib/python3.12/site-packages (from torch) (3.2.0)\n",
      "Requirement already satisfied: setuptools in /home/iiitd/anaconda3/envs/LLM/lib/python3.12/site-packages (from torch) (75.8.0)\n",
      "Requirement already satisfied: sympy==1.13.1 in /home/iiitd/anaconda3/envs/LLM/lib/python3.12/site-packages (from torch) (1.13.1)\n",
      "Requirement already satisfied: mpmath<1.4,>=1.1.0 in /home/iiitd/anaconda3/envs/LLM/lib/python3.12/site-packages (from sympy==1.13.1->torch) (1.3.0)\n",
      "Requirement already satisfied: pillow!=8.3.*,>=5.3.0 in /home/iiitd/anaconda3/envs/LLM/lib/python3.12/site-packages (from torchvision) (11.1.0)\n",
      "Requirement already satisfied: psutil in /home/iiitd/anaconda3/envs/LLM/lib/python3.12/site-packages (from accelerate) (5.9.8)\n",
      "Requirement already satisfied: pyarrow>=15.0.0 in /home/iiitd/anaconda3/envs/LLM/lib/python3.12/site-packages (from datasets) (19.0.1)\n",
      "Requirement already satisfied: dill<0.3.9,>=0.3.0 in /home/iiitd/anaconda3/envs/LLM/lib/python3.12/site-packages (from datasets) (0.3.8)\n",
      "Requirement already satisfied: pandas in /home/iiitd/anaconda3/envs/LLM/lib/python3.12/site-packages (from datasets) (2.2.3)\n",
      "Requirement already satisfied: xxhash in /home/iiitd/anaconda3/envs/LLM/lib/python3.12/site-packages (from datasets) (3.5.0)\n",
      "Requirement already satisfied: multiprocess<0.70.17 in /home/iiitd/anaconda3/envs/LLM/lib/python3.12/site-packages (from datasets) (0.70.16)\n",
      "Requirement already satisfied: aiohttp in /home/iiitd/anaconda3/envs/LLM/lib/python3.12/site-packages (from datasets) (3.11.13)\n",
      "Requirement already satisfied: portalocker in /home/iiitd/anaconda3/envs/LLM/lib/python3.12/site-packages (from sacrebleu) (3.1.1)\n",
      "Requirement already satisfied: tabulate>=0.8.9 in /home/iiitd/anaconda3/envs/LLM/lib/python3.12/site-packages (from sacrebleu) (0.9.0)\n",
      "Requirement already satisfied: colorama in /home/iiitd/anaconda3/envs/LLM/lib/python3.12/site-packages (from sacrebleu) (0.4.6)\n",
      "Requirement already satisfied: lxml in /home/iiitd/anaconda3/envs/LLM/lib/python3.12/site-packages (from sacrebleu) (5.3.1)\n",
      "Requirement already satisfied: beautifulsoup4 in /home/iiitd/anaconda3/envs/LLM/lib/python3.12/site-packages (from google) (4.13.3)\n",
      "Requirement already satisfied: aiohappyeyeballs>=2.3.0 in /home/iiitd/anaconda3/envs/LLM/lib/python3.12/site-packages (from aiohttp->datasets) (2.5.0)\n",
      "Requirement already satisfied: aiosignal>=1.1.2 in /home/iiitd/anaconda3/envs/LLM/lib/python3.12/site-packages (from aiohttp->datasets) (1.3.2)\n",
      "Requirement already satisfied: attrs>=17.3.0 in /home/iiitd/anaconda3/envs/LLM/lib/python3.12/site-packages (from aiohttp->datasets) (25.1.0)\n",
      "Requirement already satisfied: frozenlist>=1.1.1 in /home/iiitd/anaconda3/envs/LLM/lib/python3.12/site-packages (from aiohttp->datasets) (1.5.0)\n",
      "Requirement already satisfied: multidict<7.0,>=4.5 in /home/iiitd/anaconda3/envs/LLM/lib/python3.12/site-packages (from aiohttp->datasets) (6.1.0)\n",
      "Requirement already satisfied: propcache>=0.2.0 in /home/iiitd/anaconda3/envs/LLM/lib/python3.12/site-packages (from aiohttp->datasets) (0.3.0)\n",
      "Requirement already satisfied: yarl<2.0,>=1.17.0 in /home/iiitd/anaconda3/envs/LLM/lib/python3.12/site-packages (from aiohttp->datasets) (1.18.3)\n",
      "Requirement already satisfied: charset-normalizer<4,>=2 in /home/iiitd/anaconda3/envs/LLM/lib/python3.12/site-packages (from requests->transformers) (3.3.2)\n",
      "Requirement already satisfied: idna<4,>=2.5 in /home/iiitd/anaconda3/envs/LLM/lib/python3.12/site-packages (from requests->transformers) (3.7)\n",
      "Requirement already satisfied: urllib3<3,>=1.21.1 in /home/iiitd/anaconda3/envs/LLM/lib/python3.12/site-packages (from requests->transformers) (2.3.0)\n",
      "Requirement already satisfied: certifi>=2017.4.17 in /home/iiitd/anaconda3/envs/LLM/lib/python3.12/site-packages (from requests->transformers) (2025.1.31)\n",
      "Requirement already satisfied: soupsieve>1.2 in /home/iiitd/anaconda3/envs/LLM/lib/python3.12/site-packages (from beautifulsoup4->google) (2.6)\n",
      "Requirement already satisfied: MarkupSafe>=2.0 in /home/iiitd/anaconda3/envs/LLM/lib/python3.12/site-packages (from jinja2->torch) (3.0.2)\n",
      "Requirement already satisfied: python-dateutil>=2.8.2 in /home/iiitd/anaconda3/envs/LLM/lib/python3.12/site-packages (from pandas->datasets) (2.9.0.post0)\n",
      "Requirement already satisfied: pytz>=2020.1 in /home/iiitd/anaconda3/envs/LLM/lib/python3.12/site-packages (from pandas->datasets) (2025.1)\n",
      "Requirement already satisfied: tzdata>=2022.7 in /home/iiitd/anaconda3/envs/LLM/lib/python3.12/site-packages (from pandas->datasets) (2025.1)\n",
      "Requirement already satisfied: six>=1.5 in /home/iiitd/anaconda3/envs/LLM/lib/python3.12/site-packages (from python-dateutil>=2.8.2->pandas->datasets) (1.17.0)\n",
      "Note: you may need to restart the kernel to use updated packages.\n"
     ]
    }
   ],
   "source": [
    "pip install transformers torch torchvision torchaudio accelerate datasets sentencepiece sacrebleu sentencepiece huggingface_hub protobuf google\n"
   ]
  },
  {
   "cell_type": "code",
   "execution_count": 2,
   "metadata": {},
   "outputs": [
    {
     "name": "stdout",
     "output_type": "stream",
     "text": [
      "1\n"
     ]
    }
   ],
   "source": [
    "import os\n",
    "os.environ[\"CUDA_VISIBLE_DEVICES\"]=\"1\"\n",
    "import torch\n",
    "print(torch.cuda.device_count())"
   ]
  },
  {
   "cell_type": "code",
   "execution_count": 3,
   "metadata": {},
   "outputs": [
    {
     "data": {
      "application/vnd.jupyter.widget-view+json": {
       "model_id": "f4c4eec6a3154c6388b24de9e2bd9f8d",
       "version_major": 2,
       "version_minor": 0
      },
      "text/plain": [
       "Loading checkpoint shards:   0%|          | 0/2 [00:00<?, ?it/s]"
      ]
     },
     "metadata": {},
     "output_type": "display_data"
    }
   ],
   "source": [
    "\n",
    "from transformers import AutoModelForSeq2SeqLM, AutoTokenizer, Seq2SeqTrainer, Seq2SeqTrainingArguments, DataCollatorForSeq2Seq\n",
    "from datasets import Dataset\n",
    "import numpy as np\n",
    "\n",
    "# Load model and tokenizer\n",
    "model_name = \"facebook/seamless-m4t-v2-large\"\n",
    "tokenizer = AutoTokenizer.from_pretrained(model_name)\n",
    "model = AutoModelForSeq2SeqLM.from_pretrained(model_name)"
   ]
  },
  {
   "cell_type": "code",
   "execution_count": null,
   "metadata": {},
   "outputs": [
    {
     "name": "stdout",
     "output_type": "stream",
     "text": [
      "Trainable parameters:\n",
      "- shared.weight\n",
      "- text_decoder.layers.23.self_attn.k_proj.weight\n",
      "- text_decoder.layers.23.self_attn.k_proj.bias\n",
      "- text_decoder.layers.23.self_attn.v_proj.weight\n",
      "- text_decoder.layers.23.self_attn.v_proj.bias\n",
      "- text_decoder.layers.23.self_attn.q_proj.weight\n",
      "- text_decoder.layers.23.self_attn.q_proj.bias\n",
      "- text_decoder.layers.23.self_attn.out_proj.weight\n",
      "- text_decoder.layers.23.self_attn.out_proj.bias\n",
      "- text_decoder.layers.23.self_attn_layer_norm.weight\n",
      "- text_decoder.layers.23.self_attn_layer_norm.bias\n",
      "- text_decoder.layers.23.cross_attention.k_proj.weight\n",
      "- text_decoder.layers.23.cross_attention.k_proj.bias\n",
      "- text_decoder.layers.23.cross_attention.v_proj.weight\n",
      "- text_decoder.layers.23.cross_attention.v_proj.bias\n",
      "- text_decoder.layers.23.cross_attention.q_proj.weight\n",
      "- text_decoder.layers.23.cross_attention.q_proj.bias\n",
      "- text_decoder.layers.23.cross_attention.out_proj.weight\n",
      "- text_decoder.layers.23.cross_attention.out_proj.bias\n",
      "- text_decoder.layers.23.cross_attention_layer_norm.weight\n",
      "- text_decoder.layers.23.cross_attention_layer_norm.bias\n",
      "- text_decoder.layers.23.ffn.fc1.weight\n",
      "- text_decoder.layers.23.ffn.fc1.bias\n",
      "- text_decoder.layers.23.ffn.fc2.weight\n",
      "- text_decoder.layers.23.ffn.fc2.bias\n",
      "- text_decoder.layers.23.ffn_layer_norm.weight\n",
      "- text_decoder.layers.23.ffn_layer_norm.bias\n"
     ]
    },
    {
     "data": {
      "application/vnd.jupyter.widget-view+json": {
       "model_id": "a8aeafe15b2e4cac9cf455166c15f1ec",
       "version_major": 2,
       "version_minor": 0
      },
      "text/plain": [
       "Map:   0%|          | 0/1000000 [00:00<?, ? examples/s]"
      ]
     },
     "metadata": {},
     "output_type": "display_data"
    },
    {
     "name": "stderr",
     "output_type": "stream",
     "text": [
      "/home/iiitd/anaconda3/envs/LLM/lib/python3.12/site-packages/transformers/tokenization_utils_base.py:3970: UserWarning: `as_target_tokenizer` is deprecated and will be removed in v5 of Transformers. You can tokenize your labels by using the argument `text_target` of the regular `__call__` method (either in the same call as your input texts if you use the same keyword arguments, or in a separate call.\n",
      "  warnings.warn(\n",
      "/tmp/ipykernel_611645/353656544.py:98: FutureWarning: `tokenizer` is deprecated and will be removed in version 5.0.0 for `Seq2SeqTrainer.__init__`. Use `processing_class` instead.\n",
      "  trainer = Seq2SeqTrainer(\n"
     ]
    },
    {
     "name": "stdout",
     "output_type": "stream",
     "text": [
      "Starting training...\n"
     ]
    },
    {
     "data": {
      "text/html": [
       "\n",
       "    <div>\n",
       "      \n",
       "      <progress value='3906' max='3906' style='width:300px; height:20px; vertical-align: middle;'></progress>\n",
       "      [3906/3906 6:10:18, Epoch 0/1]\n",
       "    </div>\n",
       "    <table border=\"1\" class=\"dataframe\">\n",
       "  <thead>\n",
       " <tr style=\"text-align: left;\">\n",
       "      <th>Step</th>\n",
       "      <th>Training Loss</th>\n",
       "    </tr>\n",
       "  </thead>\n",
       "  <tbody>\n",
       "    <tr>\n",
       "      <td>500</td>\n",
       "      <td>84.923700</td>\n",
       "    </tr>\n",
       "    <tr>\n",
       "      <td>1000</td>\n",
       "      <td>14.048000</td>\n",
       "    </tr>\n",
       "    <tr>\n",
       "      <td>1500</td>\n",
       "      <td>11.144300</td>\n",
       "    </tr>\n",
       "    <tr>\n",
       "      <td>2000</td>\n",
       "      <td>9.981800</td>\n",
       "    </tr>\n",
       "    <tr>\n",
       "      <td>2500</td>\n",
       "      <td>9.075300</td>\n",
       "    </tr>\n",
       "    <tr>\n",
       "      <td>3000</td>\n",
       "      <td>8.724000</td>\n",
       "    </tr>\n",
       "    <tr>\n",
       "      <td>3500</td>\n",
       "      <td>8.252900</td>\n",
       "    </tr>\n",
       "  </tbody>\n",
       "</table><p>"
      ],
      "text/plain": [
       "<IPython.core.display.HTML object>"
      ]
     },
     "metadata": {},
     "output_type": "display_data"
    },
    {
     "data": {
      "text/plain": [
       "('./fine_tuned_seamless/tokenizer_config.json',\n",
       " './fine_tuned_seamless/special_tokens_map.json',\n",
       " './fine_tuned_seamless/sentencepiece.bpe.model',\n",
       " './fine_tuned_seamless/added_tokens.json',\n",
       " './fine_tuned_seamless/tokenizer.json')"
      ]
     },
     "execution_count": 4,
     "metadata": {},
     "output_type": "execute_result"
    }
   ],
   "source": [
    "import torch\n",
    "from transformers import AutoModelForSeq2SeqLM, AutoTokenizer, Seq2SeqTrainer, Seq2SeqTrainingArguments, DataCollatorForSeq2Seq\n",
    "from datasets import Dataset\n",
    "import numpy as np\n",
    "\n",
    "\n",
    "# Freeze all parameters\n",
    "for param in model.parameters():\n",
    "    param.requires_grad = False\n",
    "\n",
    "# Unfreeze the last decoder layer and the language modeling head\n",
    "\n",
    "for param in model.text_decoder.layers[-1].parameters():\n",
    "    param.requires_grad = True\n",
    "for param in model.lm_head.parameters():\n",
    "    param.requires_grad = True\n",
    "\n",
    "# Verify trainable parameters\n",
    "print(\"Trainable parameters:\")\n",
    "for name, param in model.named_parameters():\n",
    "    if param.requires_grad:\n",
    "        print(f\"- {name}\")\n",
    "\n",
    "# Move model to GPU if available\n",
    "device = torch.device(\"cuda\" if torch.cuda.is_available() else \"cpu\")\n",
    "model = model.to(device)\n",
    "\n",
    "# Load small dataset\n",
    "limit = 1000000\n",
    "hindi_sentences = [line.strip() for line in open(\"hindi.hi-filtered.hi\", \"r\", encoding=\"utf-8\").readlines()[:limit]]\n",
    "tamil_sentences = [line.strip() for line in open(\"tamil.ta-filtered.ta\", \"r\", encoding=\"utf-8\").readlines()[:limit]]\n",
    "\n",
    "# Create dataset\n",
    "dataset = Dataset.from_dict({\n",
    "    \"translation\": [{\"src\": hin, \"tgt\": tam} for hin, tam in zip(hindi_sentences, tamil_sentences)]\n",
    "})\n",
    "\n",
    "# Preprocess function for tokenization\n",
    "def preprocess_function(examples):\n",
    "    inputs = [ex[\"src\"] for ex in examples[\"translation\"]]\n",
    "    targets = [ex[\"tgt\"] for ex in examples[\"translation\"]]\n",
    "    \n",
    "    # Tokenize inputs (Hindi)\n",
    "    model_inputs = tokenizer(\n",
    "        inputs,\n",
    "        max_length=128,\n",
    "        truncation=True,\n",
    "        padding=\"longest\",\n",
    "        return_tensors=\"pt\",\n",
    "        src_lang=\"hin\"  # Language code for Hindi\n",
    "    )\n",
    "    \n",
    "    # Tokenize targets (Tamil)\n",
    "    with tokenizer.as_target_tokenizer():\n",
    "        labels = tokenizer(\n",
    "            targets,\n",
    "            max_length=128,\n",
    "            truncation=True,\n",
    "            padding=\"longest\",\n",
    "            return_tensors=\"pt\",\n",
    "            tgt_lang=\"tam\"  # Language code for Tamil\n",
    "        )\n",
    "    \n",
    "    model_inputs[\"labels\"] = labels[\"input_ids\"]\n",
    "    return model_inputs\n",
    "\n",
    "# Process dataset\n",
    "tokenized_dataset = dataset.map(\n",
    "    preprocess_function,\n",
    "    batched=True,\n",
    "    remove_columns=[\"translation\"]\n",
    ")\n",
    "\n",
    "# Data collator with dynamic padding\n",
    "data_collator = DataCollatorForSeq2Seq(\n",
    "    tokenizer=tokenizer,\n",
    "    model=model,\n",
    "    padding=\"longest\"\n",
    ")\n",
    "\n",
    "# Training arguments\n",
    "training_args = Seq2SeqTrainingArguments(\n",
    "    output_dir=\"./results\",\n",
    "    save_strategy=\"no\",\n",
    "    per_device_train_batch_size=16,     \n",
    "    gradient_accumulation_steps=16,       \n",
    "    num_train_epochs=1,                  # Small number of epochs for testing\n",
    "    logging_steps=500,                    \n",
    "    prediction_loss_only=True,           # Only compute loss during training\n",
    "    fp16=True,                           # Use mixed precision for efficiency\n",
    "    report_to=\"none\",                    # No external reporting (e.g., WandB)\n",
    "    optim=\"adamw_torch_fused\",           # Optimized AdamW\n",
    "    learning_rate=5e-5,                  # Standard learning rate\n",
    "    warmup_steps=100                     # Warmup for stable training\n",
    ")\n",
    "\n",
    "# Initialize trainer\n",
    "trainer = Seq2SeqTrainer(\n",
    "    model=model,\n",
    "    args=training_args,\n",
    "    train_dataset=tokenized_dataset,\n",
    "    data_collator=data_collator,\n",
    "    tokenizer=tokenizer\n",
    ")\n",
    "\n",
    "# Train the model and display progress\n",
    "print(\"Starting training...\")\n",
    "trainer.train()\n",
    "\n",
    "# Save the fine-tuned model and tokenizer\n",
    "trainer.save_model(\"./fine_tuned_seamless\")\n",
    "tokenizer.save_pretrained(\"./fine_tuned_seamless\")"
   ]
  },
  {
   "cell_type": "code",
   "execution_count": null,
   "metadata": {},
   "outputs": [],
   "source": []
  }
 ],
 "metadata": {
  "kaggle": {
   "accelerator": "nvidiaTeslaT4",
   "dataSources": [
    {
     "datasetId": 6895441,
     "sourceId": 11065834,
     "sourceType": "datasetVersion"
    }
   ],
   "dockerImageVersionId": 30919,
   "isGpuEnabled": true,
   "isInternetEnabled": true,
   "language": "python",
   "sourceType": "notebook"
  },
  "kernelspec": {
   "display_name": "Python 3 (ipykernel)",
   "language": "python",
   "name": "python3"
  },
  "language_info": {
   "codemirror_mode": {
    "name": "ipython",
    "version": 3
   },
   "file_extension": ".py",
   "mimetype": "text/x-python",
   "name": "python",
   "nbconvert_exporter": "python",
   "pygments_lexer": "ipython3",
   "version": "3.12.7"
  }
 },
 "nbformat": 4,
 "nbformat_minor": 4
}
