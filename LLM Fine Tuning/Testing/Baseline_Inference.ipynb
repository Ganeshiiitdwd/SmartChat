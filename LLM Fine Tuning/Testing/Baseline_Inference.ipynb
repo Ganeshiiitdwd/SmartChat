{
 "cells": [
  {
   "cell_type": "code",
   "execution_count": null,
   "metadata": {},
   "outputs": [],
   "source": [
    "pip install transformers torch torchvision torchaudio accelerate datasets sentencepiece sacrebleu\n"
   ]
  },
  {
   "cell_type": "code",
   "execution_count": 1,
   "metadata": {},
   "outputs": [
    {
     "name": "stdout",
     "output_type": "stream",
     "text": [
      "1\n"
     ]
    }
   ],
   "source": [
    "import os\n",
    "os.environ[\"CUDA_VISIBLE_DEVICES\"]=\"1\"\n",
    "import torch\n",
    "print(torch.cuda.device_count())"
   ]
  },
  {
   "cell_type": "code",
   "execution_count": 2,
   "metadata": {},
   "outputs": [
    {
     "data": {
      "application/vnd.jupyter.widget-view+json": {
       "model_id": "3f07990bc43e45cf98a898c1d75134df",
       "version_major": 2,
       "version_minor": 0
      },
      "text/plain": [
       "Loading checkpoint shards:   0%|          | 0/2 [00:00<?, ?it/s]"
      ]
     },
     "metadata": {},
     "output_type": "display_data"
    }
   ],
   "source": [
    "from transformers import AutoModelForSeq2SeqLM, AutoTokenizer\n",
    "\n",
    "model_name = \"facebook/seamless-m4t-v2-large\"  # Use the latest version\n",
    "tokenizer = AutoTokenizer.from_pretrained(model_name)\n",
    "model = AutoModelForSeq2SeqLM.from_pretrained(model_name).cuda()\n"
   ]
  },
  {
   "cell_type": "code",
   "execution_count": 4,
   "metadata": {
    "execution": {
     "iopub.execute_input": "2025-03-17T19:36:38.823053Z",
     "iopub.status.busy": "2025-03-17T19:36:38.822697Z",
     "iopub.status.idle": "2025-03-17T19:36:39.988419Z",
     "shell.execute_reply": "2025-03-17T19:36:39.987409Z",
     "shell.execute_reply.started": "2025-03-17T19:36:38.823028Z"
    }
   },
   "outputs": [
    {
     "name": "stdout",
     "output_type": "stream",
     "text": [
      "Translated Text: [hin] இது ஒரு சோதனை வாக்கியம்.\n"
     ]
    }
   ],
   "source": [
    "import torch\n",
    "# Define source and target language\n",
    "src_lang = \"hin\"  # Hindi\n",
    "tgt_lang = \"tam\"  # Tamil\n",
    "\n",
    "# Prepare the input with language specification\n",
    "input_text = \"[hin] यह एक परीक्षण वाक्य है।\"  # Hindi sentence\n",
    "inputs = tokenizer(input_text, return_tensors=\"pt\").to(\"cuda\")\n",
    "\n",
    "# Generate translation with correct target language\n",
    "with torch.no_grad():\n",
    "    output_tokens = model.generate(**inputs, tgt_lang=tgt_lang)\n",
    "\n",
    "translated_text = tokenizer.decode(output_tokens[0], skip_special_tokens=True)\n",
    "print(\"Translated Text:\", translated_text)"
   ]
  },
  {
   "cell_type": "code",
   "execution_count": null,
   "metadata": {},
   "outputs": [
    {
     "name": "stderr",
     "output_type": "stream",
     "text": [
      "Processing Batches:   0%|▏                                    | 1/200 [00:28<1:34:59, 28.64s/it]"
     ]
    },
    {
     "name": "stdout",
     "output_type": "stream",
     "text": [
      "Batch 1/200 - BLEU: 48.97\n"
     ]
    },
    {
     "name": "stderr",
     "output_type": "stream",
     "text": [
      "Processing Batches:   1%|▎                                    | 2/200 [00:53<1:27:18, 26.46s/it]"
     ]
    },
    {
     "name": "stdout",
     "output_type": "stream",
     "text": [
      "Batch 2/200 - BLEU: 45.56\n"
     ]
    },
    {
     "name": "stderr",
     "output_type": "stream",
     "text": [
      "Processing Batches:   2%|▌                                    | 3/200 [01:15<1:20:16, 24.45s/it]"
     ]
    },
    {
     "name": "stdout",
     "output_type": "stream",
     "text": [
      "Batch 3/200 - BLEU: 46.46\n"
     ]
    },
    {
     "name": "stderr",
     "output_type": "stream",
     "text": [
      "Processing Batches:   2%|▋                                    | 4/200 [01:32<1:09:50, 21.38s/it]"
     ]
    },
    {
     "name": "stdout",
     "output_type": "stream",
     "text": [
      "Batch 4/200 - BLEU: 42.05\n"
     ]
    },
    {
     "name": "stderr",
     "output_type": "stream",
     "text": [
      "Processing Batches:   2%|▉                                    | 5/200 [01:56<1:12:37, 22.35s/it]"
     ]
    },
    {
     "name": "stdout",
     "output_type": "stream",
     "text": [
      "Batch 5/200 - BLEU: 50.08\n"
     ]
    },
    {
     "name": "stderr",
     "output_type": "stream",
     "text": [
      "Processing Batches:   3%|█                                    | 6/200 [02:18<1:11:34, 22.14s/it]"
     ]
    },
    {
     "name": "stdout",
     "output_type": "stream",
     "text": [
      "Batch 6/200 - BLEU: 43.29\n"
     ]
    },
    {
     "name": "stderr",
     "output_type": "stream",
     "text": [
      "Processing Batches:   4%|█▎                                   | 7/200 [02:35<1:05:49, 20.46s/it]"
     ]
    },
    {
     "name": "stdout",
     "output_type": "stream",
     "text": [
      "Batch 7/200 - BLEU: 25.24\n"
     ]
    },
    {
     "name": "stderr",
     "output_type": "stream",
     "text": [
      "Processing Batches:   4%|█▍                                   | 8/200 [02:54<1:03:56, 19.98s/it]"
     ]
    },
    {
     "name": "stdout",
     "output_type": "stream",
     "text": [
      "Batch 8/200 - BLEU: 29.01\n"
     ]
    },
    {
     "name": "stderr",
     "output_type": "stream",
     "text": [
      "Processing Batches:   4%|█▋                                   | 9/200 [03:14<1:03:35, 19.97s/it]"
     ]
    },
    {
     "name": "stdout",
     "output_type": "stream",
     "text": [
      "Batch 9/200 - BLEU: 51.97\n"
     ]
    },
    {
     "name": "stderr",
     "output_type": "stream",
     "text": [
      "Processing Batches:   5%|█▊                                  | 10/200 [03:33<1:02:54, 19.87s/it]"
     ]
    },
    {
     "name": "stdout",
     "output_type": "stream",
     "text": [
      "Batch 10/200 - BLEU: 48.02\n"
     ]
    },
    {
     "name": "stderr",
     "output_type": "stream",
     "text": [
      "Processing Batches:   6%|█▉                                  | 11/200 [03:56<1:05:11, 20.70s/it]"
     ]
    },
    {
     "name": "stdout",
     "output_type": "stream",
     "text": [
      "Batch 11/200 - BLEU: 46.04\n"
     ]
    },
    {
     "name": "stderr",
     "output_type": "stream",
     "text": [
      "Processing Batches:   6%|██▏                                 | 12/200 [04:16<1:04:01, 20.44s/it]"
     ]
    },
    {
     "name": "stdout",
     "output_type": "stream",
     "text": [
      "Batch 12/200 - BLEU: 45.16\n"
     ]
    },
    {
     "name": "stderr",
     "output_type": "stream",
     "text": [
      "Processing Batches:   6%|██▎                                 | 13/200 [04:36<1:03:16, 20.30s/it]"
     ]
    },
    {
     "name": "stdout",
     "output_type": "stream",
     "text": [
      "Batch 13/200 - BLEU: 45.25\n"
     ]
    },
    {
     "name": "stderr",
     "output_type": "stream",
     "text": [
      "Processing Batches:   7%|██▌                                 | 14/200 [04:55<1:02:06, 20.03s/it]"
     ]
    },
    {
     "name": "stdout",
     "output_type": "stream",
     "text": [
      "Batch 14/200 - BLEU: 46.57\n"
     ]
    },
    {
     "name": "stderr",
     "output_type": "stream",
     "text": [
      "Processing Batches:   8%|██▋                                 | 15/200 [05:16<1:03:04, 20.46s/it]"
     ]
    },
    {
     "name": "stdout",
     "output_type": "stream",
     "text": [
      "Batch 15/200 - BLEU: 49.26\n"
     ]
    },
    {
     "name": "stderr",
     "output_type": "stream",
     "text": [
      "Processing Batches:   8%|██▉                                 | 16/200 [05:40<1:05:39, 21.41s/it]"
     ]
    },
    {
     "name": "stdout",
     "output_type": "stream",
     "text": [
      "Batch 16/200 - BLEU: 47.03\n"
     ]
    },
    {
     "name": "stderr",
     "output_type": "stream",
     "text": [
      "Processing Batches:   8%|███                                 | 17/200 [06:03<1:06:32, 21.82s/it]"
     ]
    },
    {
     "name": "stdout",
     "output_type": "stream",
     "text": [
      "Batch 17/200 - BLEU: 42.27\n"
     ]
    },
    {
     "name": "stderr",
     "output_type": "stream",
     "text": [
      "Processing Batches:   9%|███▏                                | 18/200 [06:23<1:04:58, 21.42s/it]"
     ]
    },
    {
     "name": "stdout",
     "output_type": "stream",
     "text": [
      "Batch 18/200 - BLEU: 49.34\n"
     ]
    },
    {
     "name": "stderr",
     "output_type": "stream",
     "text": [
      "Processing Batches:  10%|███▍                                | 19/200 [06:44<1:04:08, 21.26s/it]"
     ]
    },
    {
     "name": "stdout",
     "output_type": "stream",
     "text": [
      "Batch 19/200 - BLEU: 46.70\n"
     ]
    },
    {
     "name": "stderr",
     "output_type": "stream",
     "text": [
      "Processing Batches:  10%|███▌                                | 20/200 [07:03<1:01:08, 20.38s/it]"
     ]
    },
    {
     "name": "stdout",
     "output_type": "stream",
     "text": [
      "Batch 20/200 - BLEU: 50.81\n"
     ]
    },
    {
     "name": "stderr",
     "output_type": "stream",
     "text": [
      "Processing Batches:  10%|███▊                                | 21/200 [07:26<1:03:18, 21.22s/it]"
     ]
    },
    {
     "name": "stdout",
     "output_type": "stream",
     "text": [
      "Batch 21/200 - BLEU: 38.73\n"
     ]
    },
    {
     "name": "stderr",
     "output_type": "stream",
     "text": [
      "Processing Batches:  11%|███▉                                | 22/200 [07:45<1:01:05, 20.59s/it]"
     ]
    },
    {
     "name": "stdout",
     "output_type": "stream",
     "text": [
      "Batch 22/200 - BLEU: 42.78\n"
     ]
    },
    {
     "name": "stderr",
     "output_type": "stream",
     "text": [
      "Processing Batches:  12%|████▏                               | 23/200 [08:09<1:03:46, 21.62s/it]"
     ]
    },
    {
     "name": "stdout",
     "output_type": "stream",
     "text": [
      "Batch 23/200 - BLEU: 40.99\n"
     ]
    },
    {
     "name": "stderr",
     "output_type": "stream",
     "text": [
      "Processing Batches:  12%|████▎                               | 24/200 [08:29<1:02:17, 21.23s/it]"
     ]
    },
    {
     "name": "stdout",
     "output_type": "stream",
     "text": [
      "Batch 24/200 - BLEU: 23.34\n"
     ]
    },
    {
     "name": "stderr",
     "output_type": "stream",
     "text": [
      "Processing Batches:  12%|████▌                               | 25/200 [08:49<1:00:55, 20.89s/it]"
     ]
    },
    {
     "name": "stdout",
     "output_type": "stream",
     "text": [
      "Batch 25/200 - BLEU: 23.34\n"
     ]
    },
    {
     "name": "stderr",
     "output_type": "stream",
     "text": [
      "Processing Batches:  13%|████▉                                 | 26/200 [09:08<58:52, 20.30s/it]"
     ]
    },
    {
     "name": "stdout",
     "output_type": "stream",
     "text": [
      "Batch 26/200 - BLEU: 23.46\n"
     ]
    },
    {
     "name": "stderr",
     "output_type": "stream",
     "text": [
      "Processing Batches:  14%|█████▏                                | 27/200 [09:29<59:20, 20.58s/it]"
     ]
    },
    {
     "name": "stdout",
     "output_type": "stream",
     "text": [
      "Batch 27/200 - BLEU: 26.50\n"
     ]
    },
    {
     "name": "stderr",
     "output_type": "stream",
     "text": [
      "Processing Batches:  14%|█████                               | 28/200 [09:51<1:00:08, 20.98s/it]"
     ]
    },
    {
     "name": "stdout",
     "output_type": "stream",
     "text": [
      "Batch 28/200 - BLEU: 23.25\n"
     ]
    },
    {
     "name": "stderr",
     "output_type": "stream",
     "text": [
      "Processing Batches:  14%|█████▌                                | 29/200 [10:11<58:37, 20.57s/it]"
     ]
    },
    {
     "name": "stdout",
     "output_type": "stream",
     "text": [
      "Batch 29/200 - BLEU: 25.30\n"
     ]
    },
    {
     "name": "stderr",
     "output_type": "stream",
     "text": [
      "Processing Batches:  15%|█████▍                              | 30/200 [10:35<1:01:20, 21.65s/it]"
     ]
    },
    {
     "name": "stdout",
     "output_type": "stream",
     "text": [
      "Batch 30/200 - BLEU: 19.20\n"
     ]
    },
    {
     "name": "stderr",
     "output_type": "stream",
     "text": [
      "Processing Batches:  16%|█████▌                              | 31/200 [10:57<1:01:35, 21.87s/it]"
     ]
    },
    {
     "name": "stdout",
     "output_type": "stream",
     "text": [
      "Batch 31/200 - BLEU: 24.35\n"
     ]
    },
    {
     "name": "stderr",
     "output_type": "stream",
     "text": [
      "Processing Batches:  16%|██████                                | 32/200 [11:17<59:25, 21.22s/it]"
     ]
    },
    {
     "name": "stdout",
     "output_type": "stream",
     "text": [
      "Batch 32/200 - BLEU: 26.14\n"
     ]
    },
    {
     "name": "stderr",
     "output_type": "stream",
     "text": [
      "Processing Batches:  16%|█████▉                              | 33/200 [11:44<1:03:39, 22.87s/it]"
     ]
    },
    {
     "name": "stdout",
     "output_type": "stream",
     "text": [
      "Batch 33/200 - BLEU: 21.41\n"
     ]
    },
    {
     "name": "stderr",
     "output_type": "stream",
     "text": [
      "Processing Batches:  17%|██████                              | 34/200 [12:09<1:05:05, 23.52s/it]"
     ]
    },
    {
     "name": "stdout",
     "output_type": "stream",
     "text": [
      "Batch 34/200 - BLEU: 28.02\n"
     ]
    },
    {
     "name": "stderr",
     "output_type": "stream",
     "text": [
      "Processing Batches:  18%|██████▎                             | 35/200 [12:28<1:00:46, 22.10s/it]"
     ]
    },
    {
     "name": "stdout",
     "output_type": "stream",
     "text": [
      "Batch 35/200 - BLEU: 24.72\n"
     ]
    },
    {
     "name": "stderr",
     "output_type": "stream",
     "text": [
      "Processing Batches:  18%|██████▊                               | 36/200 [12:48<58:43, 21.49s/it]"
     ]
    },
    {
     "name": "stdout",
     "output_type": "stream",
     "text": [
      "Batch 36/200 - BLEU: 23.96\n"
     ]
    },
    {
     "name": "stderr",
     "output_type": "stream",
     "text": [
      "Processing Batches:  18%|███████                               | 37/200 [13:08<57:30, 21.17s/it]"
     ]
    },
    {
     "name": "stdout",
     "output_type": "stream",
     "text": [
      "Batch 37/200 - BLEU: 22.93\n"
     ]
    },
    {
     "name": "stderr",
     "output_type": "stream",
     "text": [
      "Processing Batches:  19%|███████▏                              | 38/200 [13:31<58:24, 21.63s/it]"
     ]
    },
    {
     "name": "stdout",
     "output_type": "stream",
     "text": [
      "Batch 38/200 - BLEU: 25.30\n"
     ]
    },
    {
     "name": "stderr",
     "output_type": "stream",
     "text": [
      "Processing Batches:  20%|███████▍                              | 39/200 [13:53<58:20, 21.74s/it]"
     ]
    },
    {
     "name": "stdout",
     "output_type": "stream",
     "text": [
      "Batch 39/200 - BLEU: 26.00\n"
     ]
    },
    {
     "name": "stderr",
     "output_type": "stream",
     "text": [
      "Processing Batches:  20%|███████▌                              | 40/200 [14:14<57:05, 21.41s/it]"
     ]
    },
    {
     "name": "stdout",
     "output_type": "stream",
     "text": [
      "Batch 40/200 - BLEU: 21.54\n"
     ]
    },
    {
     "name": "stderr",
     "output_type": "stream",
     "text": [
      "Processing Batches:  20%|███████▊                              | 41/200 [14:35<56:33, 21.34s/it]"
     ]
    },
    {
     "name": "stdout",
     "output_type": "stream",
     "text": [
      "Batch 41/200 - BLEU: 27.01\n"
     ]
    },
    {
     "name": "stderr",
     "output_type": "stream",
     "text": [
      "Processing Batches:  21%|███████▉                              | 42/200 [14:55<55:32, 21.09s/it]"
     ]
    },
    {
     "name": "stdout",
     "output_type": "stream",
     "text": [
      "Batch 42/200 - BLEU: 28.06\n"
     ]
    },
    {
     "name": "stderr",
     "output_type": "stream",
     "text": [
      "Processing Batches:  22%|████████▏                             | 43/200 [15:17<55:22, 21.16s/it]"
     ]
    },
    {
     "name": "stdout",
     "output_type": "stream",
     "text": [
      "Batch 43/200 - BLEU: 25.42\n"
     ]
    },
    {
     "name": "stderr",
     "output_type": "stream",
     "text": [
      "Processing Batches:  22%|████████▎                             | 44/200 [15:36<53:32, 20.59s/it]"
     ]
    },
    {
     "name": "stdout",
     "output_type": "stream",
     "text": [
      "Batch 44/200 - BLEU: 22.29\n"
     ]
    },
    {
     "name": "stderr",
     "output_type": "stream",
     "text": [
      "Processing Batches:  22%|████████▌                             | 45/200 [15:56<53:12, 20.60s/it]"
     ]
    },
    {
     "name": "stdout",
     "output_type": "stream",
     "text": [
      "Batch 45/200 - BLEU: 19.37\n"
     ]
    },
    {
     "name": "stderr",
     "output_type": "stream",
     "text": [
      "Processing Batches:  23%|████████▋                             | 46/200 [16:16<52:03, 20.28s/it]"
     ]
    },
    {
     "name": "stdout",
     "output_type": "stream",
     "text": [
      "Batch 46/200 - BLEU: 24.33\n"
     ]
    },
    {
     "name": "stderr",
     "output_type": "stream",
     "text": [
      "Processing Batches:  24%|████████▉                             | 47/200 [16:38<52:47, 20.70s/it]"
     ]
    },
    {
     "name": "stdout",
     "output_type": "stream",
     "text": [
      "Batch 47/200 - BLEU: 24.02\n"
     ]
    },
    {
     "name": "stderr",
     "output_type": "stream",
     "text": [
      "Processing Batches:  24%|█████████                             | 48/200 [17:02<55:19, 21.84s/it]"
     ]
    },
    {
     "name": "stdout",
     "output_type": "stream",
     "text": [
      "Batch 48/200 - BLEU: 19.58\n"
     ]
    },
    {
     "name": "stderr",
     "output_type": "stream",
     "text": [
      "Processing Batches:  24%|█████████▎                            | 49/200 [17:22<53:21, 21.20s/it]"
     ]
    },
    {
     "name": "stdout",
     "output_type": "stream",
     "text": [
      "Batch 49/200 - BLEU: 22.23\n"
     ]
    },
    {
     "name": "stderr",
     "output_type": "stream",
     "text": [
      "Processing Batches:  25%|█████████▌                            | 50/200 [17:40<50:41, 20.27s/it]"
     ]
    },
    {
     "name": "stdout",
     "output_type": "stream",
     "text": [
      "Batch 50/200 - BLEU: 21.18\n"
     ]
    },
    {
     "name": "stderr",
     "output_type": "stream",
     "text": [
      "Processing Batches:  26%|█████████▋                            | 51/200 [18:00<50:14, 20.23s/it]"
     ]
    },
    {
     "name": "stdout",
     "output_type": "stream",
     "text": [
      "Batch 51/200 - BLEU: 19.99\n"
     ]
    },
    {
     "name": "stderr",
     "output_type": "stream",
     "text": [
      "Processing Batches:  26%|█████████▉                            | 52/200 [18:26<53:47, 21.81s/it]"
     ]
    },
    {
     "name": "stdout",
     "output_type": "stream",
     "text": [
      "Batch 52/200 - BLEU: 21.37\n"
     ]
    },
    {
     "name": "stderr",
     "output_type": "stream",
     "text": [
      "Processing Batches:  26%|██████████                            | 53/200 [18:49<54:55, 22.42s/it]"
     ]
    },
    {
     "name": "stdout",
     "output_type": "stream",
     "text": [
      "Batch 53/200 - BLEU: 24.31\n"
     ]
    },
    {
     "name": "stderr",
     "output_type": "stream",
     "text": [
      "Processing Batches:  27%|██████████▎                           | 54/200 [19:15<56:41, 23.30s/it]"
     ]
    },
    {
     "name": "stdout",
     "output_type": "stream",
     "text": [
      "Batch 54/200 - BLEU: 24.99\n"
     ]
    },
    {
     "name": "stderr",
     "output_type": "stream",
     "text": [
      "Processing Batches:  28%|██████████▍                           | 55/200 [19:35<54:19, 22.48s/it]"
     ]
    },
    {
     "name": "stdout",
     "output_type": "stream",
     "text": [
      "Batch 55/200 - BLEU: 23.08\n"
     ]
    },
    {
     "name": "stderr",
     "output_type": "stream",
     "text": [
      "Processing Batches:  28%|██████████▋                           | 56/200 [19:56<52:53, 22.04s/it]"
     ]
    },
    {
     "name": "stdout",
     "output_type": "stream",
     "text": [
      "Batch 56/200 - BLEU: 24.03\n"
     ]
    },
    {
     "name": "stderr",
     "output_type": "stream",
     "text": [
      "Processing Batches:  28%|██████████▊                           | 57/200 [20:15<49:58, 20.97s/it]"
     ]
    },
    {
     "name": "stdout",
     "output_type": "stream",
     "text": [
      "Batch 57/200 - BLEU: 21.18\n"
     ]
    },
    {
     "name": "stderr",
     "output_type": "stream",
     "text": [
      "Processing Batches:  29%|███████████                           | 58/200 [20:33<47:40, 20.14s/it]"
     ]
    },
    {
     "name": "stdout",
     "output_type": "stream",
     "text": [
      "Batch 58/200 - BLEU: 41.13\n"
     ]
    },
    {
     "name": "stderr",
     "output_type": "stream",
     "text": [
      "Processing Batches:  30%|███████████▏                          | 59/200 [20:51<45:36, 19.41s/it]"
     ]
    },
    {
     "name": "stdout",
     "output_type": "stream",
     "text": [
      "Batch 59/200 - BLEU: 45.01\n"
     ]
    },
    {
     "name": "stderr",
     "output_type": "stream",
     "text": [
      "Processing Batches:  30%|███████████▍                          | 60/200 [21:12<46:37, 19.98s/it]"
     ]
    },
    {
     "name": "stdout",
     "output_type": "stream",
     "text": [
      "Batch 60/200 - BLEU: 42.12\n"
     ]
    },
    {
     "name": "stderr",
     "output_type": "stream",
     "text": [
      "Processing Batches:  30%|███████████▌                          | 61/200 [21:32<46:16, 19.97s/it]"
     ]
    },
    {
     "name": "stdout",
     "output_type": "stream",
     "text": [
      "Batch 61/200 - BLEU: 48.39\n"
     ]
    },
    {
     "name": "stderr",
     "output_type": "stream",
     "text": [
      "Processing Batches:  31%|███████████▊                          | 62/200 [21:58<50:08, 21.80s/it]"
     ]
    },
    {
     "name": "stdout",
     "output_type": "stream",
     "text": [
      "Batch 62/200 - BLEU: 40.82\n"
     ]
    },
    {
     "name": "stderr",
     "output_type": "stream",
     "text": [
      "Processing Batches:  32%|███████████▉                          | 63/200 [22:18<48:46, 21.36s/it]"
     ]
    },
    {
     "name": "stdout",
     "output_type": "stream",
     "text": [
      "Batch 63/200 - BLEU: 39.46\n"
     ]
    },
    {
     "name": "stderr",
     "output_type": "stream",
     "text": [
      "Processing Batches:  32%|████████████▏                         | 64/200 [22:39<47:34, 20.99s/it]"
     ]
    },
    {
     "name": "stdout",
     "output_type": "stream",
     "text": [
      "Batch 64/200 - BLEU: 48.86\n"
     ]
    },
    {
     "name": "stderr",
     "output_type": "stream",
     "text": [
      "Processing Batches:  32%|████████████▎                         | 65/200 [22:56<44:43, 19.88s/it]"
     ]
    },
    {
     "name": "stdout",
     "output_type": "stream",
     "text": [
      "Batch 65/200 - BLEU: 47.53\n"
     ]
    },
    {
     "name": "stderr",
     "output_type": "stream",
     "text": [
      "Processing Batches:  33%|████████████▌                         | 66/200 [23:17<45:06, 20.20s/it]"
     ]
    },
    {
     "name": "stdout",
     "output_type": "stream",
     "text": [
      "Batch 66/200 - BLEU: 52.15\n"
     ]
    },
    {
     "name": "stderr",
     "output_type": "stream",
     "text": [
      "Processing Batches:  34%|████████████▋                         | 67/200 [23:36<44:19, 20.00s/it]"
     ]
    },
    {
     "name": "stdout",
     "output_type": "stream",
     "text": [
      "Batch 67/200 - BLEU: 52.93\n"
     ]
    },
    {
     "name": "stderr",
     "output_type": "stream",
     "text": [
      "Processing Batches:  34%|████████████▉                         | 68/200 [24:01<47:04, 21.40s/it]"
     ]
    },
    {
     "name": "stdout",
     "output_type": "stream",
     "text": [
      "Batch 68/200 - BLEU: 44.03\n"
     ]
    },
    {
     "name": "stderr",
     "output_type": "stream",
     "text": [
      "Processing Batches:  34%|█████████████                         | 69/200 [24:23<47:22, 21.70s/it]"
     ]
    },
    {
     "name": "stdout",
     "output_type": "stream",
     "text": [
      "Batch 69/200 - BLEU: 49.53\n"
     ]
    },
    {
     "name": "stderr",
     "output_type": "stream",
     "text": [
      "Processing Batches:  35%|█████████████▎                        | 70/200 [24:46<47:38, 21.99s/it]"
     ]
    },
    {
     "name": "stdout",
     "output_type": "stream",
     "text": [
      "Batch 70/200 - BLEU: 48.88\n"
     ]
    },
    {
     "name": "stderr",
     "output_type": "stream",
     "text": [
      "Processing Batches:  36%|█████████████▍                        | 71/200 [25:12<49:32, 23.04s/it]"
     ]
    },
    {
     "name": "stdout",
     "output_type": "stream",
     "text": [
      "Batch 71/200 - BLEU: 51.17\n"
     ]
    },
    {
     "name": "stderr",
     "output_type": "stream",
     "text": [
      "Processing Batches:  36%|█████████████▋                        | 72/200 [25:33<47:58, 22.49s/it]"
     ]
    },
    {
     "name": "stdout",
     "output_type": "stream",
     "text": [
      "Batch 72/200 - BLEU: 55.37\n"
     ]
    },
    {
     "name": "stderr",
     "output_type": "stream",
     "text": [
      "Processing Batches:  36%|█████████████▊                        | 73/200 [25:53<45:59, 21.73s/it]"
     ]
    },
    {
     "name": "stdout",
     "output_type": "stream",
     "text": [
      "Batch 73/200 - BLEU: 49.06\n"
     ]
    },
    {
     "name": "stderr",
     "output_type": "stream",
     "text": [
      "Processing Batches:  37%|██████████████                        | 74/200 [26:17<47:01, 22.39s/it]"
     ]
    },
    {
     "name": "stdout",
     "output_type": "stream",
     "text": [
      "Batch 74/200 - BLEU: 43.35\n"
     ]
    },
    {
     "name": "stderr",
     "output_type": "stream",
     "text": [
      "Processing Batches:  38%|██████████████▎                       | 75/200 [26:43<49:18, 23.67s/it]"
     ]
    },
    {
     "name": "stdout",
     "output_type": "stream",
     "text": [
      "Batch 75/200 - BLEU: 41.28\n"
     ]
    },
    {
     "name": "stderr",
     "output_type": "stream",
     "text": [
      "Processing Batches:  38%|██████████████▍                       | 76/200 [27:06<48:03, 23.26s/it]"
     ]
    },
    {
     "name": "stdout",
     "output_type": "stream",
     "text": [
      "Batch 76/200 - BLEU: 44.43\n"
     ]
    },
    {
     "name": "stderr",
     "output_type": "stream",
     "text": [
      "Processing Batches:  38%|██████████████▋                       | 77/200 [27:29<47:36, 23.22s/it]"
     ]
    },
    {
     "name": "stdout",
     "output_type": "stream",
     "text": [
      "Batch 77/200 - BLEU: 49.95\n"
     ]
    },
    {
     "name": "stderr",
     "output_type": "stream",
     "text": [
      "Processing Batches:  39%|██████████████▊                       | 78/200 [27:57<50:10, 24.68s/it]"
     ]
    },
    {
     "name": "stdout",
     "output_type": "stream",
     "text": [
      "Batch 78/200 - BLEU: 32.42\n"
     ]
    },
    {
     "name": "stderr",
     "output_type": "stream",
     "text": [
      "Processing Batches:  40%|███████████████                       | 79/200 [28:22<50:03, 24.82s/it]"
     ]
    },
    {
     "name": "stdout",
     "output_type": "stream",
     "text": [
      "Batch 79/200 - BLEU: 40.69\n"
     ]
    },
    {
     "name": "stderr",
     "output_type": "stream",
     "text": [
      "Processing Batches:  40%|███████████████▏                      | 80/200 [28:43<47:27, 23.73s/it]"
     ]
    },
    {
     "name": "stdout",
     "output_type": "stream",
     "text": [
      "Batch 80/200 - BLEU: 49.36\n"
     ]
    },
    {
     "name": "stderr",
     "output_type": "stream",
     "text": [
      "Processing Batches:  40%|███████████████▍                      | 81/200 [29:15<51:41, 26.07s/it]"
     ]
    },
    {
     "name": "stdout",
     "output_type": "stream",
     "text": [
      "Batch 81/200 - BLEU: 40.96\n"
     ]
    },
    {
     "name": "stderr",
     "output_type": "stream",
     "text": [
      "Processing Batches:  41%|███████████████▌                      | 82/200 [29:41<51:15, 26.06s/it]"
     ]
    },
    {
     "name": "stdout",
     "output_type": "stream",
     "text": [
      "Batch 82/200 - BLEU: 46.15\n"
     ]
    },
    {
     "name": "stderr",
     "output_type": "stream",
     "text": [
      "Processing Batches:  42%|███████████████▊                      | 83/200 [30:04<49:16, 25.27s/it]"
     ]
    },
    {
     "name": "stdout",
     "output_type": "stream",
     "text": [
      "Batch 83/200 - BLEU: 50.74\n"
     ]
    },
    {
     "name": "stderr",
     "output_type": "stream",
     "text": [
      "Processing Batches:  42%|███████████████▉                      | 84/200 [30:29<48:23, 25.03s/it]"
     ]
    },
    {
     "name": "stdout",
     "output_type": "stream",
     "text": [
      "Batch 84/200 - BLEU: 45.17\n"
     ]
    },
    {
     "name": "stderr",
     "output_type": "stream",
     "text": [
      "Processing Batches:  42%|████████████████▏                     | 85/200 [30:53<47:49, 24.95s/it]"
     ]
    },
    {
     "name": "stdout",
     "output_type": "stream",
     "text": [
      "Batch 85/200 - BLEU: 46.93\n"
     ]
    },
    {
     "name": "stderr",
     "output_type": "stream",
     "text": [
      "Processing Batches:  43%|████████████████▎                     | 86/200 [31:19<47:52, 25.20s/it]"
     ]
    },
    {
     "name": "stdout",
     "output_type": "stream",
     "text": [
      "Batch 86/200 - BLEU: 42.03\n"
     ]
    },
    {
     "name": "stderr",
     "output_type": "stream",
     "text": [
      "Processing Batches:  44%|████████████████▌                     | 87/200 [31:44<47:15, 25.09s/it]"
     ]
    },
    {
     "name": "stdout",
     "output_type": "stream",
     "text": [
      "Batch 87/200 - BLEU: 41.45\n"
     ]
    },
    {
     "name": "stderr",
     "output_type": "stream",
     "text": [
      "Processing Batches:  44%|████████████████▋                     | 88/200 [32:12<48:40, 26.08s/it]"
     ]
    },
    {
     "name": "stdout",
     "output_type": "stream",
     "text": [
      "Batch 88/200 - BLEU: 41.47\n"
     ]
    },
    {
     "name": "stderr",
     "output_type": "stream",
     "text": [
      "Processing Batches:  44%|████████████████▉                     | 89/200 [32:38<47:51, 25.87s/it]"
     ]
    },
    {
     "name": "stdout",
     "output_type": "stream",
     "text": [
      "Batch 89/200 - BLEU: 40.99\n"
     ]
    },
    {
     "name": "stderr",
     "output_type": "stream",
     "text": [
      "Processing Batches:  45%|█████████████████                     | 90/200 [33:03<46:55, 25.60s/it]"
     ]
    },
    {
     "name": "stdout",
     "output_type": "stream",
     "text": [
      "Batch 90/200 - BLEU: 52.03\n"
     ]
    },
    {
     "name": "stderr",
     "output_type": "stream",
     "text": [
      "Processing Batches:  46%|█████████████████▎                    | 91/200 [33:26<45:29, 25.04s/it]"
     ]
    },
    {
     "name": "stdout",
     "output_type": "stream",
     "text": [
      "Batch 91/200 - BLEU: 49.42\n"
     ]
    },
    {
     "name": "stderr",
     "output_type": "stream",
     "text": [
      "Processing Batches:  46%|█████████████████▍                    | 92/200 [33:46<42:01, 23.35s/it]"
     ]
    },
    {
     "name": "stdout",
     "output_type": "stream",
     "text": [
      "Batch 92/200 - BLEU: 47.53\n"
     ]
    },
    {
     "name": "stderr",
     "output_type": "stream",
     "text": [
      "Processing Batches:  46%|█████████████████▋                    | 93/200 [34:11<42:32, 23.86s/it]"
     ]
    },
    {
     "name": "stdout",
     "output_type": "stream",
     "text": [
      "Batch 93/200 - BLEU: 42.30\n"
     ]
    },
    {
     "name": "stderr",
     "output_type": "stream",
     "text": [
      "Processing Batches:  47%|█████████████████▊                    | 94/200 [34:30<39:49, 22.54s/it]"
     ]
    },
    {
     "name": "stdout",
     "output_type": "stream",
     "text": [
      "Batch 94/200 - BLEU: 42.20\n"
     ]
    },
    {
     "name": "stderr",
     "output_type": "stream",
     "text": [
      "Processing Batches:  48%|██████████████████                    | 95/200 [34:51<38:27, 21.97s/it]"
     ]
    },
    {
     "name": "stdout",
     "output_type": "stream",
     "text": [
      "Batch 95/200 - BLEU: 49.57\n"
     ]
    },
    {
     "name": "stderr",
     "output_type": "stream",
     "text": [
      "Processing Batches:  48%|██████████████████▏                   | 96/200 [35:11<36:47, 21.22s/it]"
     ]
    },
    {
     "name": "stdout",
     "output_type": "stream",
     "text": [
      "Batch 96/200 - BLEU: 49.14\n"
     ]
    },
    {
     "name": "stderr",
     "output_type": "stream",
     "text": [
      "Processing Batches:  48%|██████████████████▍                   | 97/200 [35:32<36:34, 21.30s/it]"
     ]
    },
    {
     "name": "stdout",
     "output_type": "stream",
     "text": [
      "Batch 97/200 - BLEU: 47.66\n"
     ]
    },
    {
     "name": "stderr",
     "output_type": "stream",
     "text": [
      "Processing Batches:  49%|██████████████████▌                   | 98/200 [35:53<36:09, 21.27s/it]"
     ]
    },
    {
     "name": "stdout",
     "output_type": "stream",
     "text": [
      "Batch 98/200 - BLEU: 52.16\n"
     ]
    },
    {
     "name": "stderr",
     "output_type": "stream",
     "text": [
      "Processing Batches:  50%|██████████████████▊                   | 99/200 [36:15<35:55, 21.34s/it]"
     ]
    },
    {
     "name": "stdout",
     "output_type": "stream",
     "text": [
      "Batch 99/200 - BLEU: 52.56\n"
     ]
    },
    {
     "name": "stderr",
     "output_type": "stream",
     "text": [
      "Processing Batches:  50%|██████████████████▌                  | 100/200 [36:36<35:24, 21.25s/it]"
     ]
    },
    {
     "name": "stdout",
     "output_type": "stream",
     "text": [
      "Batch 100/200 - BLEU: 54.20\n"
     ]
    },
    {
     "name": "stderr",
     "output_type": "stream",
     "text": [
      "Processing Batches:  50%|██████████████████▋                  | 101/200 [36:58<35:42, 21.64s/it]"
     ]
    },
    {
     "name": "stdout",
     "output_type": "stream",
     "text": [
      "Batch 101/200 - BLEU: 52.11\n"
     ]
    },
    {
     "name": "stderr",
     "output_type": "stream",
     "text": [
      "Processing Batches:  51%|██████████████████▊                  | 102/200 [37:20<35:36, 21.80s/it]"
     ]
    },
    {
     "name": "stdout",
     "output_type": "stream",
     "text": [
      "Batch 102/200 - BLEU: 45.41\n"
     ]
    },
    {
     "name": "stderr",
     "output_type": "stream",
     "text": [
      "Processing Batches:  52%|███████████████████                  | 103/200 [37:44<36:13, 22.40s/it]"
     ]
    },
    {
     "name": "stdout",
     "output_type": "stream",
     "text": [
      "Batch 103/200 - BLEU: 53.70\n"
     ]
    },
    {
     "name": "stderr",
     "output_type": "stream",
     "text": [
      "Processing Batches:  52%|███████████████████▏                 | 104/200 [38:06<35:37, 22.26s/it]"
     ]
    },
    {
     "name": "stdout",
     "output_type": "stream",
     "text": [
      "Batch 104/200 - BLEU: 55.04\n"
     ]
    },
    {
     "name": "stderr",
     "output_type": "stream",
     "text": [
      "Processing Batches:  52%|███████████████████▍                 | 105/200 [38:28<35:05, 22.16s/it]"
     ]
    },
    {
     "name": "stdout",
     "output_type": "stream",
     "text": [
      "Batch 105/200 - BLEU: 58.39\n"
     ]
    },
    {
     "name": "stderr",
     "output_type": "stream",
     "text": [
      "Processing Batches:  53%|███████████████████▌                 | 106/200 [38:52<35:29, 22.65s/it]"
     ]
    },
    {
     "name": "stdout",
     "output_type": "stream",
     "text": [
      "Batch 106/200 - BLEU: 49.33\n"
     ]
    },
    {
     "name": "stderr",
     "output_type": "stream",
     "text": [
      "Processing Batches:  54%|███████████████████▊                 | 107/200 [39:13<34:33, 22.30s/it]"
     ]
    },
    {
     "name": "stdout",
     "output_type": "stream",
     "text": [
      "Batch 107/200 - BLEU: 50.80\n"
     ]
    },
    {
     "name": "stderr",
     "output_type": "stream",
     "text": [
      "Processing Batches:  54%|███████████████████▉                 | 108/200 [39:35<33:41, 21.97s/it]"
     ]
    },
    {
     "name": "stdout",
     "output_type": "stream",
     "text": [
      "Batch 108/200 - BLEU: 51.65\n"
     ]
    },
    {
     "name": "stderr",
     "output_type": "stream",
     "text": [
      "Processing Batches:  55%|████████████████████▏                | 109/200 [39:55<32:32, 21.45s/it]"
     ]
    },
    {
     "name": "stdout",
     "output_type": "stream",
     "text": [
      "Batch 109/200 - BLEU: 52.52\n"
     ]
    },
    {
     "name": "stderr",
     "output_type": "stream",
     "text": [
      "Processing Batches:  55%|████████████████████▎                | 110/200 [40:17<32:22, 21.58s/it]"
     ]
    },
    {
     "name": "stdout",
     "output_type": "stream",
     "text": [
      "Batch 110/200 - BLEU: 52.80\n"
     ]
    },
    {
     "name": "stderr",
     "output_type": "stream",
     "text": [
      "Processing Batches:  56%|████████████████████▌                | 111/200 [40:47<35:57, 24.24s/it]"
     ]
    },
    {
     "name": "stdout",
     "output_type": "stream",
     "text": [
      "Batch 111/200 - BLEU: 37.50\n"
     ]
    },
    {
     "name": "stderr",
     "output_type": "stream",
     "text": [
      "Processing Batches:  56%|████████████████████▋                | 112/200 [41:10<34:51, 23.77s/it]"
     ]
    },
    {
     "name": "stdout",
     "output_type": "stream",
     "text": [
      "Batch 112/200 - BLEU: 48.78\n"
     ]
    },
    {
     "name": "stderr",
     "output_type": "stream",
     "text": [
      "Processing Batches:  56%|████████████████████▉                | 113/200 [41:35<34:53, 24.06s/it]"
     ]
    },
    {
     "name": "stdout",
     "output_type": "stream",
     "text": [
      "Batch 113/200 - BLEU: 47.43\n"
     ]
    },
    {
     "name": "stderr",
     "output_type": "stream",
     "text": [
      "Processing Batches:  57%|█████████████████████                | 114/200 [41:59<34:50, 24.31s/it]"
     ]
    },
    {
     "name": "stdout",
     "output_type": "stream",
     "text": [
      "Batch 114/200 - BLEU: 48.38\n"
     ]
    },
    {
     "name": "stderr",
     "output_type": "stream",
     "text": [
      "Processing Batches:  57%|█████████████████████▎               | 115/200 [42:22<33:42, 23.79s/it]"
     ]
    },
    {
     "name": "stdout",
     "output_type": "stream",
     "text": [
      "Batch 115/200 - BLEU: 55.51\n"
     ]
    },
    {
     "name": "stderr",
     "output_type": "stream",
     "text": [
      "Processing Batches:  58%|█████████████████████▍               | 116/200 [42:47<33:47, 24.13s/it]"
     ]
    },
    {
     "name": "stdout",
     "output_type": "stream",
     "text": [
      "Batch 116/200 - BLEU: 52.86\n"
     ]
    },
    {
     "name": "stderr",
     "output_type": "stream",
     "text": [
      "Processing Batches:  58%|█████████████████████▋               | 117/200 [43:09<32:28, 23.48s/it]"
     ]
    },
    {
     "name": "stdout",
     "output_type": "stream",
     "text": [
      "Batch 117/200 - BLEU: 50.63\n"
     ]
    },
    {
     "name": "stderr",
     "output_type": "stream",
     "text": [
      "Processing Batches:  59%|█████████████████████▊               | 118/200 [43:31<31:22, 22.96s/it]"
     ]
    },
    {
     "name": "stdout",
     "output_type": "stream",
     "text": [
      "Batch 118/200 - BLEU: 48.98\n"
     ]
    },
    {
     "name": "stderr",
     "output_type": "stream",
     "text": [
      "Processing Batches:  60%|██████████████████████               | 119/200 [44:02<34:17, 25.40s/it]"
     ]
    },
    {
     "name": "stdout",
     "output_type": "stream",
     "text": [
      "Batch 119/200 - BLEU: 38.59\n"
     ]
    },
    {
     "name": "stderr",
     "output_type": "stream",
     "text": [
      "Processing Batches:  60%|██████████████████████▏              | 120/200 [44:25<33:01, 24.77s/it]"
     ]
    },
    {
     "name": "stdout",
     "output_type": "stream",
     "text": [
      "Batch 120/200 - BLEU: 52.05\n"
     ]
    },
    {
     "name": "stderr",
     "output_type": "stream",
     "text": [
      "Processing Batches:  60%|██████████████████████▍              | 121/200 [44:50<32:39, 24.81s/it]"
     ]
    },
    {
     "name": "stdout",
     "output_type": "stream",
     "text": [
      "Batch 121/200 - BLEU: 50.21\n"
     ]
    },
    {
     "name": "stderr",
     "output_type": "stream",
     "text": [
      "Processing Batches:  61%|██████████████████████▌              | 122/200 [45:11<30:54, 23.77s/it]"
     ]
    },
    {
     "name": "stdout",
     "output_type": "stream",
     "text": [
      "Batch 122/200 - BLEU: 51.18\n"
     ]
    },
    {
     "name": "stderr",
     "output_type": "stream",
     "text": [
      "Processing Batches:  62%|██████████████████████▊              | 123/200 [45:33<29:33, 23.04s/it]"
     ]
    },
    {
     "name": "stdout",
     "output_type": "stream",
     "text": [
      "Batch 123/200 - BLEU: 47.63\n"
     ]
    },
    {
     "name": "stderr",
     "output_type": "stream",
     "text": [
      "Processing Batches:  62%|██████████████████████▉              | 124/200 [46:02<31:43, 25.05s/it]"
     ]
    },
    {
     "name": "stdout",
     "output_type": "stream",
     "text": [
      "Batch 124/200 - BLEU: 40.34\n"
     ]
    },
    {
     "name": "stderr",
     "output_type": "stream",
     "text": [
      "Processing Batches:  62%|███████████████████████▏             | 125/200 [46:30<32:12, 25.77s/it]"
     ]
    },
    {
     "name": "stdout",
     "output_type": "stream",
     "text": [
      "Batch 125/200 - BLEU: 32.05\n"
     ]
    },
    {
     "name": "stderr",
     "output_type": "stream",
     "text": [
      "Processing Batches:  63%|███████████████████████▎             | 126/200 [46:51<30:05, 24.41s/it]"
     ]
    },
    {
     "name": "stdout",
     "output_type": "stream",
     "text": [
      "Batch 126/200 - BLEU: 47.42\n"
     ]
    },
    {
     "name": "stderr",
     "output_type": "stream",
     "text": [
      "Processing Batches:  64%|███████████████████████▍             | 127/200 [47:16<30:03, 24.70s/it]"
     ]
    },
    {
     "name": "stdout",
     "output_type": "stream",
     "text": [
      "Batch 127/200 - BLEU: 44.67\n"
     ]
    },
    {
     "name": "stderr",
     "output_type": "stream",
     "text": [
      "Processing Batches:  64%|███████████████████████▋             | 128/200 [47:45<31:04, 25.90s/it]"
     ]
    },
    {
     "name": "stdout",
     "output_type": "stream",
     "text": [
      "Batch 128/200 - BLEU: 37.40\n"
     ]
    },
    {
     "name": "stderr",
     "output_type": "stream",
     "text": [
      "Processing Batches:  64%|███████████████████████▊             | 129/200 [48:11<30:33, 25.82s/it]"
     ]
    },
    {
     "name": "stdout",
     "output_type": "stream",
     "text": [
      "Batch 129/200 - BLEU: 51.10\n"
     ]
    },
    {
     "name": "stderr",
     "output_type": "stream",
     "text": [
      "Processing Batches:  65%|████████████████████████             | 130/200 [48:35<29:37, 25.39s/it]"
     ]
    },
    {
     "name": "stdout",
     "output_type": "stream",
     "text": [
      "Batch 130/200 - BLEU: 49.68\n"
     ]
    },
    {
     "name": "stderr",
     "output_type": "stream",
     "text": [
      "Processing Batches:  66%|████████████████████████▏            | 131/200 [49:04<30:32, 26.55s/it]"
     ]
    },
    {
     "name": "stdout",
     "output_type": "stream",
     "text": [
      "Batch 131/200 - BLEU: 19.08\n"
     ]
    },
    {
     "name": "stderr",
     "output_type": "stream",
     "text": [
      "Processing Batches:  66%|████████████████████████▍            | 132/200 [49:26<28:23, 25.06s/it]"
     ]
    },
    {
     "name": "stdout",
     "output_type": "stream",
     "text": [
      "Batch 132/200 - BLEU: 23.79\n"
     ]
    },
    {
     "name": "stderr",
     "output_type": "stream",
     "text": [
      "Processing Batches:  66%|████████████████████████▌            | 133/200 [49:51<28:06, 25.17s/it]"
     ]
    },
    {
     "name": "stdout",
     "output_type": "stream",
     "text": [
      "Batch 133/200 - BLEU: 22.48\n"
     ]
    },
    {
     "name": "stderr",
     "output_type": "stream",
     "text": [
      "Processing Batches:  67%|████████████████████████▊            | 134/200 [50:15<27:07, 24.65s/it]"
     ]
    },
    {
     "name": "stdout",
     "output_type": "stream",
     "text": [
      "Batch 134/200 - BLEU: 22.17\n"
     ]
    },
    {
     "name": "stderr",
     "output_type": "stream",
     "text": [
      "Processing Batches:  68%|████████████████████████▉            | 135/200 [50:37<25:57, 23.95s/it]"
     ]
    },
    {
     "name": "stdout",
     "output_type": "stream",
     "text": [
      "Batch 135/200 - BLEU: 25.55\n"
     ]
    },
    {
     "name": "stderr",
     "output_type": "stream",
     "text": [
      "Processing Batches:  68%|█████████████████████████▏           | 136/200 [51:04<26:30, 24.85s/it]"
     ]
    },
    {
     "name": "stdout",
     "output_type": "stream",
     "text": [
      "Batch 136/200 - BLEU: 26.29\n"
     ]
    },
    {
     "name": "stderr",
     "output_type": "stream",
     "text": [
      "Processing Batches:  68%|█████████████████████████▎           | 137/200 [51:25<24:52, 23.70s/it]"
     ]
    },
    {
     "name": "stdout",
     "output_type": "stream",
     "text": [
      "Batch 137/200 - BLEU: 26.39\n"
     ]
    },
    {
     "name": "stderr",
     "output_type": "stream",
     "text": [
      "Processing Batches:  69%|█████████████████████████▌           | 138/200 [51:47<24:01, 23.25s/it]"
     ]
    },
    {
     "name": "stdout",
     "output_type": "stream",
     "text": [
      "Batch 138/200 - BLEU: 25.00\n"
     ]
    },
    {
     "name": "stderr",
     "output_type": "stream",
     "text": [
      "Processing Batches:  70%|█████████████████████████▋           | 139/200 [52:08<22:49, 22.45s/it]"
     ]
    },
    {
     "name": "stdout",
     "output_type": "stream",
     "text": [
      "Batch 139/200 - BLEU: 24.65\n"
     ]
    },
    {
     "name": "stderr",
     "output_type": "stream",
     "text": [
      "Processing Batches:  70%|█████████████████████████▉           | 140/200 [52:28<21:49, 21.83s/it]"
     ]
    },
    {
     "name": "stdout",
     "output_type": "stream",
     "text": [
      "Batch 140/200 - BLEU: 25.92\n"
     ]
    },
    {
     "name": "stderr",
     "output_type": "stream",
     "text": [
      "Processing Batches:  70%|██████████████████████████           | 141/200 [52:50<21:28, 21.83s/it]"
     ]
    },
    {
     "name": "stdout",
     "output_type": "stream",
     "text": [
      "Batch 141/200 - BLEU: 28.20\n"
     ]
    },
    {
     "name": "stderr",
     "output_type": "stream",
     "text": [
      "Processing Batches:  71%|██████████████████████████▎          | 142/200 [53:16<22:16, 23.04s/it]"
     ]
    },
    {
     "name": "stdout",
     "output_type": "stream",
     "text": [
      "Batch 142/200 - BLEU: 16.71\n"
     ]
    },
    {
     "name": "stderr",
     "output_type": "stream",
     "text": [
      "Processing Batches:  72%|██████████████████████████▍          | 143/200 [53:39<21:44, 22.89s/it]"
     ]
    },
    {
     "name": "stdout",
     "output_type": "stream",
     "text": [
      "Batch 143/200 - BLEU: 24.16\n"
     ]
    },
    {
     "name": "stderr",
     "output_type": "stream",
     "text": [
      "Processing Batches:  72%|██████████████████████████▋          | 144/200 [54:02<21:37, 23.17s/it]"
     ]
    },
    {
     "name": "stdout",
     "output_type": "stream",
     "text": [
      "Batch 144/200 - BLEU: 22.75\n"
     ]
    },
    {
     "name": "stderr",
     "output_type": "stream",
     "text": [
      "Processing Batches:  72%|██████████████████████████▊          | 145/200 [54:24<20:53, 22.79s/it]"
     ]
    },
    {
     "name": "stdout",
     "output_type": "stream",
     "text": [
      "Batch 145/200 - BLEU: 23.30\n"
     ]
    },
    {
     "name": "stderr",
     "output_type": "stream",
     "text": [
      "Processing Batches:  73%|███████████████████████████          | 146/200 [54:51<21:30, 23.90s/it]"
     ]
    },
    {
     "name": "stdout",
     "output_type": "stream",
     "text": [
      "Batch 146/200 - BLEU: 15.55\n"
     ]
    },
    {
     "name": "stderr",
     "output_type": "stream",
     "text": [
      "Processing Batches:  74%|███████████████████████████▏         | 147/200 [55:14<20:54, 23.68s/it]"
     ]
    },
    {
     "name": "stdout",
     "output_type": "stream",
     "text": [
      "Batch 147/200 - BLEU: 22.99\n"
     ]
    },
    {
     "name": "stderr",
     "output_type": "stream",
     "text": [
      "Processing Batches:  74%|███████████████████████████▍         | 148/200 [55:34<19:36, 22.63s/it]"
     ]
    },
    {
     "name": "stdout",
     "output_type": "stream",
     "text": [
      "Batch 148/200 - BLEU: 21.84\n"
     ]
    },
    {
     "name": "stderr",
     "output_type": "stream",
     "text": [
      "Processing Batches:  74%|███████████████████████████▌         | 149/200 [55:58<19:38, 23.11s/it]"
     ]
    },
    {
     "name": "stdout",
     "output_type": "stream",
     "text": [
      "Batch 149/200 - BLEU: 19.61\n"
     ]
    },
    {
     "name": "stderr",
     "output_type": "stream",
     "text": [
      "Processing Batches:  75%|███████████████████████████▊         | 150/200 [56:17<18:07, 21.76s/it]"
     ]
    },
    {
     "name": "stdout",
     "output_type": "stream",
     "text": [
      "Batch 150/200 - BLEU: 21.41\n"
     ]
    },
    {
     "name": "stderr",
     "output_type": "stream",
     "text": [
      "Processing Batches:  76%|███████████████████████████▉         | 151/200 [56:36<17:02, 20.87s/it]"
     ]
    },
    {
     "name": "stdout",
     "output_type": "stream",
     "text": [
      "Batch 151/200 - BLEU: 25.39\n"
     ]
    },
    {
     "name": "stderr",
     "output_type": "stream",
     "text": [
      "Processing Batches:  76%|████████████████████████████         | 152/200 [56:57<16:47, 20.99s/it]"
     ]
    },
    {
     "name": "stdout",
     "output_type": "stream",
     "text": [
      "Batch 152/200 - BLEU: 16.44\n"
     ]
    },
    {
     "name": "stderr",
     "output_type": "stream",
     "text": [
      "Processing Batches:  76%|████████████████████████████▎        | 153/200 [57:17<16:09, 20.64s/it]"
     ]
    },
    {
     "name": "stdout",
     "output_type": "stream",
     "text": [
      "Batch 153/200 - BLEU: 23.66\n"
     ]
    },
    {
     "name": "stderr",
     "output_type": "stream",
     "text": [
      "Processing Batches:  77%|████████████████████████████▍        | 154/200 [57:37<15:36, 20.36s/it]"
     ]
    },
    {
     "name": "stdout",
     "output_type": "stream",
     "text": [
      "Batch 154/200 - BLEU: 21.60\n"
     ]
    },
    {
     "name": "stderr",
     "output_type": "stream",
     "text": [
      "Processing Batches:  78%|████████████████████████████▋        | 155/200 [58:02<16:24, 21.88s/it]"
     ]
    },
    {
     "name": "stdout",
     "output_type": "stream",
     "text": [
      "Batch 155/200 - BLEU: 20.33\n"
     ]
    },
    {
     "name": "stderr",
     "output_type": "stream",
     "text": [
      "Processing Batches:  78%|████████████████████████████▊        | 156/200 [58:23<15:49, 21.57s/it]"
     ]
    },
    {
     "name": "stdout",
     "output_type": "stream",
     "text": [
      "Batch 156/200 - BLEU: 23.44\n"
     ]
    },
    {
     "name": "stderr",
     "output_type": "stream",
     "text": [
      "Processing Batches:  78%|█████████████████████████████        | 157/200 [58:45<15:33, 21.70s/it]"
     ]
    },
    {
     "name": "stdout",
     "output_type": "stream",
     "text": [
      "Batch 157/200 - BLEU: 22.16\n"
     ]
    },
    {
     "name": "stderr",
     "output_type": "stream",
     "text": [
      "Processing Batches:  79%|█████████████████████████████▏       | 158/200 [59:05<14:50, 21.21s/it]"
     ]
    },
    {
     "name": "stdout",
     "output_type": "stream",
     "text": [
      "Batch 158/200 - BLEU: 23.18\n"
     ]
    },
    {
     "name": "stderr",
     "output_type": "stream",
     "text": [
      "Processing Batches:  80%|█████████████████████████████▍       | 159/200 [59:25<14:19, 20.96s/it]"
     ]
    },
    {
     "name": "stdout",
     "output_type": "stream",
     "text": [
      "Batch 159/200 - BLEU: 20.89\n"
     ]
    },
    {
     "name": "stderr",
     "output_type": "stream",
     "text": [
      "Processing Batches:  80%|█████████████████████████████▌       | 160/200 [59:44<13:33, 20.33s/it]"
     ]
    },
    {
     "name": "stdout",
     "output_type": "stream",
     "text": [
      "Batch 160/200 - BLEU: 21.14\n"
     ]
    },
    {
     "name": "stderr",
     "output_type": "stream",
     "text": [
      "Processing Batches:  80%|████████████████████████████▏      | 161/200 [1:00:14<15:03, 23.16s/it]"
     ]
    },
    {
     "name": "stdout",
     "output_type": "stream",
     "text": [
      "Batch 161/200 - BLEU: 44.00\n"
     ]
    },
    {
     "name": "stderr",
     "output_type": "stream",
     "text": [
      "Processing Batches:  81%|████████████████████████████▎      | 162/200 [1:00:41<15:24, 24.34s/it]"
     ]
    },
    {
     "name": "stdout",
     "output_type": "stream",
     "text": [
      "Batch 162/200 - BLEU: 51.31\n"
     ]
    },
    {
     "name": "stderr",
     "output_type": "stream",
     "text": [
      "Processing Batches:  82%|████████████████████████████▌      | 163/200 [1:01:14<16:33, 26.86s/it]"
     ]
    },
    {
     "name": "stdout",
     "output_type": "stream",
     "text": [
      "Batch 163/200 - BLEU: 47.10\n"
     ]
    },
    {
     "name": "stderr",
     "output_type": "stream",
     "text": [
      "Processing Batches:  82%|████████████████████████████▋      | 164/200 [1:01:40<15:56, 26.56s/it]"
     ]
    },
    {
     "name": "stdout",
     "output_type": "stream",
     "text": [
      "Batch 164/200 - BLEU: 52.31\n"
     ]
    },
    {
     "name": "stderr",
     "output_type": "stream",
     "text": [
      "Processing Batches:  82%|████████████████████████████▉      | 165/200 [1:02:15<16:57, 29.06s/it]"
     ]
    },
    {
     "name": "stdout",
     "output_type": "stream",
     "text": [
      "Batch 165/200 - BLEU: 53.49\n"
     ]
    },
    {
     "name": "stderr",
     "output_type": "stream",
     "text": [
      "Processing Batches:  83%|█████████████████████████████      | 166/200 [1:02:43<16:22, 28.90s/it]"
     ]
    },
    {
     "name": "stdout",
     "output_type": "stream",
     "text": [
      "Batch 166/200 - BLEU: 48.25\n"
     ]
    },
    {
     "name": "stderr",
     "output_type": "stream",
     "text": [
      "Processing Batches:  84%|█████████████████████████████▏     | 167/200 [1:03:15<16:29, 29.97s/it]"
     ]
    },
    {
     "name": "stdout",
     "output_type": "stream",
     "text": [
      "Batch 167/200 - BLEU: 57.25\n"
     ]
    },
    {
     "name": "stderr",
     "output_type": "stream",
     "text": [
      "Processing Batches:  84%|█████████████████████████████▍     | 168/200 [1:03:45<15:57, 29.94s/it]"
     ]
    },
    {
     "name": "stdout",
     "output_type": "stream",
     "text": [
      "Batch 168/200 - BLEU: 51.45\n"
     ]
    },
    {
     "name": "stderr",
     "output_type": "stream",
     "text": [
      "Processing Batches:  84%|█████████████████████████████▌     | 169/200 [1:04:18<15:54, 30.78s/it]"
     ]
    },
    {
     "name": "stdout",
     "output_type": "stream",
     "text": [
      "Batch 169/200 - BLEU: 41.07\n"
     ]
    },
    {
     "name": "stderr",
     "output_type": "stream",
     "text": [
      "Processing Batches:  85%|█████████████████████████████▊     | 170/200 [1:04:47<15:07, 30.26s/it]"
     ]
    },
    {
     "name": "stdout",
     "output_type": "stream",
     "text": [
      "Batch 170/200 - BLEU: 56.01\n"
     ]
    },
    {
     "name": "stderr",
     "output_type": "stream",
     "text": [
      "Processing Batches:  86%|█████████████████████████████▉     | 171/200 [1:05:19<14:48, 30.63s/it]"
     ]
    },
    {
     "name": "stdout",
     "output_type": "stream",
     "text": [
      "Batch 171/200 - BLEU: 51.51\n"
     ]
    },
    {
     "name": "stderr",
     "output_type": "stream",
     "text": [
      "Processing Batches:  86%|██████████████████████████████     | 172/200 [1:05:45<13:39, 29.26s/it]"
     ]
    },
    {
     "name": "stdout",
     "output_type": "stream",
     "text": [
      "Batch 172/200 - BLEU: 53.02\n"
     ]
    },
    {
     "name": "stderr",
     "output_type": "stream",
     "text": [
      "Processing Batches:  86%|██████████████████████████████▎    | 173/200 [1:06:17<13:35, 30.20s/it]"
     ]
    },
    {
     "name": "stdout",
     "output_type": "stream",
     "text": [
      "Batch 173/200 - BLEU: 48.12\n"
     ]
    },
    {
     "name": "stderr",
     "output_type": "stream",
     "text": [
      "Processing Batches:  87%|██████████████████████████████▍    | 174/200 [1:06:50<13:29, 31.15s/it]"
     ]
    },
    {
     "name": "stdout",
     "output_type": "stream",
     "text": [
      "Batch 174/200 - BLEU: 42.25\n"
     ]
    },
    {
     "name": "stderr",
     "output_type": "stream",
     "text": [
      "Processing Batches:  88%|██████████████████████████████▋    | 175/200 [1:07:17<12:25, 29.83s/it]"
     ]
    },
    {
     "name": "stdout",
     "output_type": "stream",
     "text": [
      "Batch 175/200 - BLEU: 39.11\n"
     ]
    },
    {
     "name": "stderr",
     "output_type": "stream",
     "text": [
      "Processing Batches:  88%|██████████████████████████████▊    | 176/200 [1:07:50<12:20, 30.87s/it]"
     ]
    },
    {
     "name": "stdout",
     "output_type": "stream",
     "text": [
      "Batch 176/200 - BLEU: 34.32\n"
     ]
    },
    {
     "name": "stderr",
     "output_type": "stream",
     "text": [
      "Processing Batches:  88%|██████████████████████████████▉    | 177/200 [1:08:15<11:06, 28.96s/it]"
     ]
    },
    {
     "name": "stdout",
     "output_type": "stream",
     "text": [
      "Batch 177/200 - BLEU: 46.36\n"
     ]
    },
    {
     "name": "stderr",
     "output_type": "stream",
     "text": [
      "Processing Batches:  89%|███████████████████████████████▏   | 178/200 [1:08:42<10:25, 28.42s/it]"
     ]
    },
    {
     "name": "stdout",
     "output_type": "stream",
     "text": [
      "Batch 178/200 - BLEU: 48.00\n"
     ]
    },
    {
     "name": "stderr",
     "output_type": "stream",
     "text": [
      "Processing Batches:  90%|███████████████████████████████▎   | 179/200 [1:09:12<10:05, 28.84s/it]"
     ]
    },
    {
     "name": "stdout",
     "output_type": "stream",
     "text": [
      "Batch 179/200 - BLEU: 47.70\n"
     ]
    },
    {
     "name": "stderr",
     "output_type": "stream",
     "text": [
      "Processing Batches:  90%|███████████████████████████████▌   | 180/200 [1:09:46<10:05, 30.26s/it]"
     ]
    },
    {
     "name": "stdout",
     "output_type": "stream",
     "text": [
      "Batch 180/200 - BLEU: 47.99\n"
     ]
    },
    {
     "name": "stderr",
     "output_type": "stream",
     "text": [
      "Processing Batches:  90%|███████████████████████████████▋   | 181/200 [1:10:22<10:11, 32.18s/it]"
     ]
    },
    {
     "name": "stdout",
     "output_type": "stream",
     "text": [
      "Batch 181/200 - BLEU: 33.98\n"
     ]
    },
    {
     "name": "stderr",
     "output_type": "stream",
     "text": [
      "Processing Batches:  91%|███████████████████████████████▊   | 182/200 [1:10:52<09:23, 31.32s/it]"
     ]
    },
    {
     "name": "stdout",
     "output_type": "stream",
     "text": [
      "Batch 182/200 - BLEU: 40.94\n"
     ]
    },
    {
     "name": "stderr",
     "output_type": "stream",
     "text": [
      "Processing Batches:  92%|████████████████████████████████   | 183/200 [1:11:16<08:16, 29.21s/it]"
     ]
    },
    {
     "name": "stdout",
     "output_type": "stream",
     "text": [
      "Batch 183/200 - BLEU: 54.49\n"
     ]
    },
    {
     "name": "stderr",
     "output_type": "stream",
     "text": [
      "Processing Batches:  92%|████████████████████████████████▏  | 184/200 [1:11:41<07:25, 27.85s/it]"
     ]
    },
    {
     "name": "stdout",
     "output_type": "stream",
     "text": [
      "Batch 184/200 - BLEU: 61.93\n"
     ]
    },
    {
     "name": "stderr",
     "output_type": "stream",
     "text": [
      "Processing Batches:  92%|████████████████████████████████▍  | 185/200 [1:12:07<06:52, 27.53s/it]"
     ]
    },
    {
     "name": "stdout",
     "output_type": "stream",
     "text": [
      "Batch 185/200 - BLEU: 49.03\n"
     ]
    },
    {
     "name": "stderr",
     "output_type": "stream",
     "text": [
      "Processing Batches:  93%|████████████████████████████████▌  | 186/200 [1:12:33<06:16, 26.88s/it]"
     ]
    },
    {
     "name": "stdout",
     "output_type": "stream",
     "text": [
      "Batch 186/200 - BLEU: 53.92\n"
     ]
    },
    {
     "name": "stderr",
     "output_type": "stream",
     "text": [
      "Processing Batches:  94%|████████████████████████████████▋  | 187/200 [1:12:53<05:25, 25.02s/it]"
     ]
    },
    {
     "name": "stdout",
     "output_type": "stream",
     "text": [
      "Batch 187/200 - BLEU: 43.04\n"
     ]
    },
    {
     "name": "stderr",
     "output_type": "stream",
     "text": [
      "Processing Batches:  94%|████████████████████████████████▉  | 188/200 [1:13:23<05:16, 26.38s/it]"
     ]
    },
    {
     "name": "stdout",
     "output_type": "stream",
     "text": [
      "Batch 188/200 - BLEU: 38.70\n"
     ]
    },
    {
     "name": "stderr",
     "output_type": "stream",
     "text": [
      "Processing Batches:  94%|█████████████████████████████████  | 189/200 [1:13:50<04:53, 26.67s/it]"
     ]
    },
    {
     "name": "stdout",
     "output_type": "stream",
     "text": [
      "Batch 189/200 - BLEU: 50.68\n"
     ]
    },
    {
     "name": "stderr",
     "output_type": "stream",
     "text": [
      "Processing Batches:  95%|█████████████████████████████████▎ | 190/200 [1:14:12<04:11, 25.12s/it]"
     ]
    },
    {
     "name": "stdout",
     "output_type": "stream",
     "text": [
      "Batch 190/200 - BLEU: 53.56\n"
     ]
    },
    {
     "name": "stderr",
     "output_type": "stream",
     "text": [
      "Processing Batches:  96%|█████████████████████████████████▍ | 191/200 [1:14:33<03:36, 24.07s/it]"
     ]
    },
    {
     "name": "stdout",
     "output_type": "stream",
     "text": [
      "Batch 191/200 - BLEU: 50.28\n"
     ]
    },
    {
     "name": "stderr",
     "output_type": "stream",
     "text": [
      "Processing Batches:  96%|█████████████████████████████████▌ | 192/200 [1:14:58<03:13, 24.17s/it]"
     ]
    },
    {
     "name": "stdout",
     "output_type": "stream",
     "text": [
      "Batch 192/200 - BLEU: 51.90\n"
     ]
    },
    {
     "name": "stderr",
     "output_type": "stream",
     "text": [
      "Processing Batches:  96%|█████████████████████████████████▊ | 193/200 [1:15:25<02:56, 25.17s/it]"
     ]
    },
    {
     "name": "stdout",
     "output_type": "stream",
     "text": [
      "Batch 193/200 - BLEU: 48.01\n"
     ]
    },
    {
     "name": "stderr",
     "output_type": "stream",
     "text": [
      "Processing Batches:  97%|█████████████████████████████████▉ | 194/200 [1:15:50<02:29, 24.91s/it]"
     ]
    },
    {
     "name": "stdout",
     "output_type": "stream",
     "text": [
      "Batch 194/200 - BLEU: 53.81\n"
     ]
    },
    {
     "name": "stderr",
     "output_type": "stream",
     "text": [
      "Processing Batches:  98%|██████████████████████████████████▏| 195/200 [1:16:18<02:09, 25.92s/it]"
     ]
    },
    {
     "name": "stdout",
     "output_type": "stream",
     "text": [
      "Batch 195/200 - BLEU: 48.77\n"
     ]
    },
    {
     "name": "stderr",
     "output_type": "stream",
     "text": [
      "Processing Batches:  98%|██████████████████████████████████▎| 196/200 [1:16:44<01:43, 25.92s/it]"
     ]
    },
    {
     "name": "stdout",
     "output_type": "stream",
     "text": [
      "Batch 196/200 - BLEU: 50.55\n"
     ]
    },
    {
     "name": "stderr",
     "output_type": "stream",
     "text": [
      "Processing Batches:  98%|██████████████████████████████████▍| 197/200 [1:17:07<01:15, 25.16s/it]"
     ]
    },
    {
     "name": "stdout",
     "output_type": "stream",
     "text": [
      "Batch 197/200 - BLEU: 53.53\n"
     ]
    },
    {
     "name": "stderr",
     "output_type": "stream",
     "text": [
      "Processing Batches:  99%|██████████████████████████████████▋| 198/200 [1:17:33<00:50, 25.27s/it]"
     ]
    },
    {
     "name": "stdout",
     "output_type": "stream",
     "text": [
      "Batch 198/200 - BLEU: 46.79\n"
     ]
    },
    {
     "name": "stderr",
     "output_type": "stream",
     "text": [
      "Processing Batches: 100%|██████████████████████████████████▊| 199/200 [1:17:57<00:25, 25.01s/it]"
     ]
    },
    {
     "name": "stdout",
     "output_type": "stream",
     "text": [
      "Batch 199/200 - BLEU: 56.99\n"
     ]
    },
    {
     "name": "stderr",
     "output_type": "stream",
     "text": [
      "Processing Batches: 100%|███████████████████████████████████| 200/200 [1:18:19<00:00, 23.50s/it]\n"
     ]
    },
    {
     "name": "stdout",
     "output_type": "stream",
     "text": [
      "Batch 200/200 - BLEU: 51.63\n",
      "\n",
      "Batch-wise BLEU Scores:\n",
      "Batch 1: 0.4897\n",
      "Batch 2: 0.4556\n",
      "Batch 3: 0.4646\n",
      "Batch 4: 0.4205\n",
      "Batch 5: 0.5008\n",
      "Batch 6: 0.4329\n",
      "Batch 7: 0.2524\n",
      "Batch 8: 0.2901\n",
      "Batch 9: 0.5197\n",
      "Batch 10: 0.4802\n",
      "Batch 11: 0.4604\n",
      "Batch 12: 0.4516\n",
      "Batch 13: 0.4525\n",
      "Batch 14: 0.4657\n",
      "Batch 15: 0.4926\n",
      "Batch 16: 0.4703\n",
      "Batch 17: 0.4227\n",
      "Batch 18: 0.4934\n",
      "Batch 19: 0.4670\n",
      "Batch 20: 0.5081\n",
      "Batch 21: 0.3873\n",
      "Batch 22: 0.4278\n",
      "Batch 23: 0.4099\n",
      "Batch 24: 0.2334\n",
      "Batch 25: 0.2334\n",
      "Batch 26: 0.2346\n",
      "Batch 27: 0.2650\n",
      "Batch 28: 0.2325\n",
      "Batch 29: 0.2530\n",
      "Batch 30: 0.1920\n",
      "Batch 31: 0.2435\n",
      "Batch 32: 0.2614\n",
      "Batch 33: 0.2141\n",
      "Batch 34: 0.2802\n",
      "Batch 35: 0.2472\n",
      "Batch 36: 0.2396\n",
      "Batch 37: 0.2293\n",
      "Batch 38: 0.2530\n",
      "Batch 39: 0.2600\n",
      "Batch 40: 0.2154\n",
      "Batch 41: 0.2701\n",
      "Batch 42: 0.2806\n",
      "Batch 43: 0.2542\n",
      "Batch 44: 0.2229\n",
      "Batch 45: 0.1937\n",
      "Batch 46: 0.2433\n",
      "Batch 47: 0.2402\n",
      "Batch 48: 0.1958\n",
      "Batch 49: 0.2223\n",
      "Batch 50: 0.2118\n",
      "Batch 51: 0.1999\n",
      "Batch 52: 0.2137\n",
      "Batch 53: 0.2431\n",
      "Batch 54: 0.2499\n",
      "Batch 55: 0.2308\n",
      "Batch 56: 0.2403\n",
      "Batch 57: 0.2118\n",
      "Batch 58: 0.4113\n",
      "Batch 59: 0.4501\n",
      "Batch 60: 0.4212\n",
      "Batch 61: 0.4839\n",
      "Batch 62: 0.4082\n",
      "Batch 63: 0.3946\n",
      "Batch 64: 0.4886\n",
      "Batch 65: 0.4753\n",
      "Batch 66: 0.5215\n",
      "Batch 67: 0.5293\n",
      "Batch 68: 0.4403\n",
      "Batch 69: 0.4953\n",
      "Batch 70: 0.4888\n",
      "Batch 71: 0.5117\n",
      "Batch 72: 0.5537\n",
      "Batch 73: 0.4906\n",
      "Batch 74: 0.4335\n",
      "Batch 75: 0.4128\n",
      "Batch 76: 0.4443\n",
      "Batch 77: 0.4995\n",
      "Batch 78: 0.3242\n",
      "Batch 79: 0.4069\n",
      "Batch 80: 0.4936\n",
      "Batch 81: 0.4096\n",
      "Batch 82: 0.4615\n",
      "Batch 83: 0.5074\n",
      "Batch 84: 0.4517\n",
      "Batch 85: 0.4693\n",
      "Batch 86: 0.4203\n",
      "Batch 87: 0.4145\n",
      "Batch 88: 0.4147\n",
      "Batch 89: 0.4099\n",
      "Batch 90: 0.5203\n",
      "Batch 91: 0.4942\n",
      "Batch 92: 0.4753\n",
      "Batch 93: 0.4230\n",
      "Batch 94: 0.4220\n",
      "Batch 95: 0.4957\n",
      "Batch 96: 0.4914\n",
      "Batch 97: 0.4766\n",
      "Batch 98: 0.5216\n",
      "Batch 99: 0.5256\n",
      "Batch 100: 0.5420\n",
      "Batch 101: 0.5211\n",
      "Batch 102: 0.4541\n",
      "Batch 103: 0.5370\n",
      "Batch 104: 0.5504\n",
      "Batch 105: 0.5839\n",
      "Batch 106: 0.4933\n",
      "Batch 107: 0.5080\n",
      "Batch 108: 0.5165\n",
      "Batch 109: 0.5252\n",
      "Batch 110: 0.5280\n",
      "Batch 111: 0.3750\n",
      "Batch 112: 0.4878\n",
      "Batch 113: 0.4743\n",
      "Batch 114: 0.4838\n",
      "Batch 115: 0.5551\n",
      "Batch 116: 0.5286\n",
      "Batch 117: 0.5063\n",
      "Batch 118: 0.4898\n",
      "Batch 119: 0.3859\n",
      "Batch 120: 0.5205\n",
      "Batch 121: 0.5021\n",
      "Batch 122: 0.5118\n",
      "Batch 123: 0.4763\n",
      "Batch 124: 0.4034\n",
      "Batch 125: 0.3205\n",
      "Batch 126: 0.4742\n",
      "Batch 127: 0.4467\n",
      "Batch 128: 0.3740\n",
      "Batch 129: 0.5110\n",
      "Batch 130: 0.4968\n",
      "Batch 131: 0.1908\n",
      "Batch 132: 0.2379\n",
      "Batch 133: 0.2248\n",
      "Batch 134: 0.2217\n",
      "Batch 135: 0.2555\n",
      "Batch 136: 0.2629\n",
      "Batch 137: 0.2639\n",
      "Batch 138: 0.2500\n",
      "Batch 139: 0.2465\n",
      "Batch 140: 0.2592\n",
      "Batch 141: 0.2820\n",
      "Batch 142: 0.1671\n",
      "Batch 143: 0.2416\n",
      "Batch 144: 0.2275\n",
      "Batch 145: 0.2330\n",
      "Batch 146: 0.1555\n",
      "Batch 147: 0.2299\n",
      "Batch 148: 0.2184\n",
      "Batch 149: 0.1961\n",
      "Batch 150: 0.2141\n",
      "Batch 151: 0.2539\n",
      "Batch 152: 0.1644\n",
      "Batch 153: 0.2366\n",
      "Batch 154: 0.2160\n",
      "Batch 155: 0.2033\n",
      "Batch 156: 0.2344\n",
      "Batch 157: 0.2216\n",
      "Batch 158: 0.2318\n",
      "Batch 159: 0.2089\n",
      "Batch 160: 0.2114\n",
      "Batch 161: 0.4400\n",
      "Batch 162: 0.5131\n",
      "Batch 163: 0.4710\n",
      "Batch 164: 0.5231\n",
      "Batch 165: 0.5349\n",
      "Batch 166: 0.4825\n",
      "Batch 167: 0.5725\n",
      "Batch 168: 0.5145\n",
      "Batch 169: 0.4107\n",
      "Batch 170: 0.5601\n",
      "Batch 171: 0.5151\n",
      "Batch 172: 0.5302\n",
      "Batch 173: 0.4812\n",
      "Batch 174: 0.4225\n",
      "Batch 175: 0.3911\n",
      "Batch 176: 0.3432\n",
      "Batch 177: 0.4636\n",
      "Batch 178: 0.4800\n",
      "Batch 179: 0.4770\n",
      "Batch 180: 0.4799\n",
      "Batch 181: 0.3398\n",
      "Batch 182: 0.4094\n",
      "Batch 183: 0.5449\n",
      "Batch 184: 0.6193\n",
      "Batch 185: 0.4903\n",
      "Batch 186: 0.5392\n",
      "Batch 187: 0.4304\n",
      "Batch 188: 0.3870\n",
      "Batch 189: 0.5068\n",
      "Batch 190: 0.5356\n",
      "Batch 191: 0.5028\n",
      "Batch 192: 0.5190\n",
      "Batch 193: 0.4801\n",
      "Batch 194: 0.5381\n",
      "Batch 195: 0.4877\n",
      "Batch 196: 0.5055\n",
      "Batch 197: 0.5353\n",
      "Batch 198: 0.4679\n",
      "Batch 199: 0.5699\n",
      "Batch 200: 0.5163\n",
      "\n",
      "Overall BLEU Score for 5000 samples: 0.4135\n"
     ]
    }
   ],
   "source": [
    "from transformers import AutoModelForSeq2SeqLM, AutoTokenizer\n",
    "from nltk.translate.bleu_score import corpus_bleu\n",
    "from tqdm import tqdm\n",
    "import torch\n",
    "\n",
    "# Language codes\n",
    "src_lang = \"hin\"  # Hindi\n",
    "tgt_lang = \"tam\"  # Tamil\n",
    "\n",
    "# Read and process data\n",
    "with open(\"Hindi_Tamil_Tourism.hi\", \"r\", encoding=\"utf-8\") as f:\n",
    "    hindi_sentences = [s.strip() for s in f.readlines()[:5000]]  \n",
    "\n",
    "with open(\"Hindi_Tamil_Tourism.ta\", \"r\", encoding=\"utf-8\") as f:\n",
    "    tamil_sentences = [s.strip() for s in f.readlines()[:5000]]\n",
    "\n",
    "# Batch processing parameters\n",
    "batch_size = 25\n",
    "num_batches = 200\n",
    "total_samples = batch_size * num_batches\n",
    "\n",
    "# Results storage\n",
    "all_translated = []\n",
    "all_references = []\n",
    "batch_bleu_scores = []\n",
    "\n",
    "# Process in batches with progress bar\n",
    "for batch_idx in tqdm(range(num_batches), desc=\"Processing Batches\"):\n",
    "    start_idx = batch_idx * batch_size\n",
    "    end_idx = start_idx + batch_size\n",
    "    \n",
    "    # Get current batch\n",
    "    hindi_batch = hindi_sentences[start_idx:end_idx]\n",
    "    tamil_batch = tamil_sentences[start_idx:end_idx]\n",
    "    \n",
    "    # Translate batch\n",
    "    translated_batch = []\n",
    "    for sentence in hindi_batch:\n",
    "        input_text = f\"[{src_lang}] {sentence}\"\n",
    "        inputs = tokenizer(input_text, return_tensors=\"pt\").to(\"cuda\")\n",
    "        with torch.no_grad():\n",
    "            output_tokens = model.generate(**inputs, tgt_lang=tgt_lang)\n",
    "        translated_text = tokenizer.decode(output_tokens[0], skip_special_tokens=True)\n",
    "        translated_batch.append(translated_text)\n",
    "    \n",
    "        # Calculate batch BLEU\n",
    "    references = [[ref] for ref in tamil_batch]  # Wrap each reference in list\n",
    "    batch_bleu = corpus_bleu(references, translated_batch)  # Direct float value\n",
    "    batch_bleu_scores.append(batch_bleu)\n",
    "    \n",
    "    # Store results\n",
    "    all_translated.extend(translated_batch)\n",
    "    all_references.extend(tamil_batch)\n",
    "\n",
    "    # Optional: Print batch progress\n",
    "    tqdm.write(f\"Batch {batch_idx+1}/{num_batches} - BLEU: {batch_bleu*100:.2f}\")\n",
    "\n",
    "# Calculate overall BLEU\n",
    "overall_references = [[ref] for ref in all_references]\n",
    "overall_bleu = corpus_bleu(overall_references, all_translated)\n",
    "\n",
    "# Print results\n",
    "print(\"\\nBatch-wise BLEU Scores:\")\n",
    "for i, score in enumerate(batch_bleu_scores):\n",
    "    print(f\"Batch {i+1}: {score:.4f}\")\n",
    "\n",
    "print(f\"\\nOverall BLEU Score for {total_samples} samples: {overall_bleu:.4f}\")"
   ]
  },
  {
   "cell_type": "code",
   "execution_count": null,
   "metadata": {},
   "outputs": [],
   "source": []
  }
 ],
 "metadata": {
  "kaggle": {
   "accelerator": "nvidiaTeslaT4",
   "dataSources": [
    {
     "datasetId": 6895441,
     "sourceId": 11065834,
     "sourceType": "datasetVersion"
    }
   ],
   "dockerImageVersionId": 30919,
   "isGpuEnabled": true,
   "isInternetEnabled": true,
   "language": "python",
   "sourceType": "notebook"
  },
  "kernelspec": {
   "display_name": "Python 3 (ipykernel)",
   "language": "python",
   "name": "python3"
  },
  "language_info": {
   "codemirror_mode": {
    "name": "ipython",
    "version": 3
   },
   "file_extension": ".py",
   "mimetype": "text/x-python",
   "name": "python",
   "nbconvert_exporter": "python",
   "pygments_lexer": "ipython3",
   "version": "3.12.7"
  }
 },
 "nbformat": 4,
 "nbformat_minor": 4
}
