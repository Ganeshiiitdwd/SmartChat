{
 "cells": [
  {
   "cell_type": "code",
   "execution_count": 6,
   "metadata": {},
   "outputs": [
    {
     "name": "stderr",
     "output_type": "stream",
     "text": [
      "huggingface/tokenizers: The current process just got forked, after parallelism has already been used. Disabling parallelism to avoid deadlocks...\n",
      "To disable this warning, you can either:\n",
      "\t- Avoid using `tokenizers` before the fork if possible\n",
      "\t- Explicitly set the environment variable TOKENIZERS_PARALLELISM=(true | false)\n"
     ]
    },
    {
     "name": "stdout",
     "output_type": "stream",
     "text": [
      "Looking in indexes: https://pypi.org/simple, https://pypi.ngc.nvidia.com\n",
      "Collecting nltk\n",
      "  Downloading nltk-3.9.1-py3-none-any.whl.metadata (2.9 kB)\n",
      "Requirement already satisfied: click in /home/iiitd/anaconda3/envs/LLM/lib/python3.12/site-packages (from nltk) (8.1.8)\n",
      "Collecting joblib (from nltk)\n",
      "  Downloading joblib-1.4.2-py3-none-any.whl.metadata (5.4 kB)\n",
      "Requirement already satisfied: regex>=2021.8.3 in /home/iiitd/anaconda3/envs/LLM/lib/python3.12/site-packages (from nltk) (2024.11.6)\n",
      "Requirement already satisfied: tqdm in /home/iiitd/anaconda3/envs/LLM/lib/python3.12/site-packages (from nltk) (4.67.1)\n",
      "Downloading nltk-3.9.1-py3-none-any.whl (1.5 MB)\n",
      "\u001b[2K   \u001b[38;2;114;156;31m━━━━━━━━━━━━━━━━━━━━━━━━━━━━━━━━━━━━━━━━\u001b[0m \u001b[32m1.5/1.5 MB\u001b[0m \u001b[31m12.7 MB/s\u001b[0m eta \u001b[36m0:00:00\u001b[0m\n",
      "\u001b[?25hDownloading joblib-1.4.2-py3-none-any.whl (301 kB)\n",
      "Installing collected packages: joblib, nltk\n",
      "Successfully installed joblib-1.4.2 nltk-3.9.1\n"
     ]
    }
   ],
   "source": [
    "!pip install nltk"
   ]
  },
  {
   "cell_type": "code",
   "execution_count": 5,
   "metadata": {},
   "outputs": [
    {
     "name": "stdout",
     "output_type": "stream",
     "text": [
      "1\n"
     ]
    }
   ],
   "source": [
    "import os\n",
    "os.environ[\"CUDA_VISIBLE_DEVICES\"]=\"2\"\n",
    "import torch\n",
    "print(torch.cuda.device_count())"
   ]
  },
  {
   "cell_type": "code",
   "execution_count": null,
   "metadata": {},
   "outputs": [
    {
     "data": {
      "application/vnd.jupyter.widget-view+json": {
       "model_id": "1ec255c517554f8695ccc27145a25810",
       "version_major": 2,
       "version_minor": 0
      },
      "text/plain": [
       "Loading checkpoint shards:   0%|          | 0/2 [00:00<?, ?it/s]"
      ]
     },
     "metadata": {},
     "output_type": "display_data"
    }
   ],
   "source": [
    "from transformers import AutoModelForSeq2SeqLM, AutoTokenizer\n",
    "\n",
    "# Load the fine-tuned model and tokenizer\n",
    "model = AutoModelForSeq2SeqLM.from_pretrained(\"./fine_tuned_seamless\")\n",
    "tokenizer = AutoTokenizer.from_pretrained(\"./fine_tuned_seamless\")\n",
    "\n",
    "# Move model to GPU if available\n",
    "device = torch.device(\"cuda\" if torch.cuda.is_available() else \"cpu\")\n",
    "model = model.to(device)"
   ]
  },
  {
   "cell_type": "code",
   "execution_count": null,
   "metadata": {},
   "outputs": [
    {
     "name": "stderr",
     "output_type": "stream",
     "text": [
      "Processing Batches:   0%|▏                                    | 1/200 [00:25<1:23:02, 25.04s/it]"
     ]
    },
    {
     "name": "stdout",
     "output_type": "stream",
     "text": [
      "Batch 1/200 - BLEU: 0.6058\n"
     ]
    },
    {
     "name": "stderr",
     "output_type": "stream",
     "text": [
      "Processing Batches:   1%|▎                                    | 2/200 [00:51<1:25:10, 25.81s/it]"
     ]
    },
    {
     "name": "stdout",
     "output_type": "stream",
     "text": [
      "Batch 2/200 - BLEU: 0.4801\n"
     ]
    },
    {
     "name": "stderr",
     "output_type": "stream",
     "text": [
      "Processing Batches:   2%|▌                                    | 3/200 [01:15<1:21:58, 24.97s/it]"
     ]
    },
    {
     "name": "stdout",
     "output_type": "stream",
     "text": [
      "Batch 3/200 - BLEU: 0.5153\n"
     ]
    },
    {
     "name": "stderr",
     "output_type": "stream",
     "text": [
      "Processing Batches:   2%|▋                                    | 4/200 [01:34<1:13:38, 22.54s/it]"
     ]
    },
    {
     "name": "stdout",
     "output_type": "stream",
     "text": [
      "Batch 4/200 - BLEU: 0.4824\n"
     ]
    },
    {
     "name": "stderr",
     "output_type": "stream",
     "text": [
      "Processing Batches:   2%|▉                                    | 5/200 [01:58<1:15:05, 23.11s/it]"
     ]
    },
    {
     "name": "stdout",
     "output_type": "stream",
     "text": [
      "Batch 5/200 - BLEU: 0.5807\n"
     ]
    },
    {
     "name": "stderr",
     "output_type": "stream",
     "text": [
      "Processing Batches:   3%|█                                    | 6/200 [02:18<1:11:22, 22.08s/it]"
     ]
    },
    {
     "name": "stdout",
     "output_type": "stream",
     "text": [
      "Batch 6/200 - BLEU: 0.5248\n"
     ]
    },
    {
     "name": "stderr",
     "output_type": "stream",
     "text": [
      "Processing Batches:   4%|█▎                                   | 7/200 [02:36<1:06:54, 20.80s/it]"
     ]
    },
    {
     "name": "stdout",
     "output_type": "stream",
     "text": [
      "Batch 7/200 - BLEU: 0.2587\n"
     ]
    },
    {
     "name": "stderr",
     "output_type": "stream",
     "text": [
      "Processing Batches:   4%|█▍                                   | 8/200 [02:55<1:04:57, 20.30s/it]"
     ]
    },
    {
     "name": "stdout",
     "output_type": "stream",
     "text": [
      "Batch 8/200 - BLEU: 0.3148\n"
     ]
    },
    {
     "name": "stderr",
     "output_type": "stream",
     "text": [
      "Processing Batches:   4%|█▋                                   | 9/200 [03:15<1:04:30, 20.26s/it]"
     ]
    },
    {
     "name": "stdout",
     "output_type": "stream",
     "text": [
      "Batch 9/200 - BLEU: 0.5687\n"
     ]
    },
    {
     "name": "stderr",
     "output_type": "stream",
     "text": [
      "Processing Batches:   5%|█▊                                  | 10/200 [03:37<1:05:00, 20.53s/it]"
     ]
    },
    {
     "name": "stdout",
     "output_type": "stream",
     "text": [
      "Batch 10/200 - BLEU: 0.5494\n"
     ]
    },
    {
     "name": "stderr",
     "output_type": "stream",
     "text": [
      "Processing Batches:   6%|█▉                                  | 11/200 [03:57<1:04:31, 20.48s/it]"
     ]
    },
    {
     "name": "stdout",
     "output_type": "stream",
     "text": [
      "Batch 11/200 - BLEU: 0.5679\n"
     ]
    },
    {
     "name": "stderr",
     "output_type": "stream",
     "text": [
      "Processing Batches:   6%|██▏                                 | 12/200 [04:17<1:03:50, 20.38s/it]"
     ]
    },
    {
     "name": "stdout",
     "output_type": "stream",
     "text": [
      "Batch 12/200 - BLEU: 0.5710\n"
     ]
    },
    {
     "name": "stderr",
     "output_type": "stream",
     "text": [
      "Processing Batches:   6%|██▎                                 | 13/200 [04:43<1:08:57, 22.13s/it]"
     ]
    },
    {
     "name": "stdout",
     "output_type": "stream",
     "text": [
      "Batch 13/200 - BLEU: 0.4650\n"
     ]
    },
    {
     "name": "stderr",
     "output_type": "stream",
     "text": [
      "Processing Batches:   7%|██▌                                 | 14/200 [05:05<1:08:05, 21.97s/it]"
     ]
    },
    {
     "name": "stdout",
     "output_type": "stream",
     "text": [
      "Batch 14/200 - BLEU: 0.5904\n"
     ]
    },
    {
     "name": "stderr",
     "output_type": "stream",
     "text": [
      "Processing Batches:   8%|██▋                                 | 15/200 [05:26<1:06:57, 21.72s/it]"
     ]
    },
    {
     "name": "stdout",
     "output_type": "stream",
     "text": [
      "Batch 15/200 - BLEU: 0.5820\n"
     ]
    },
    {
     "name": "stderr",
     "output_type": "stream",
     "text": [
      "Processing Batches:   8%|██▉                                 | 16/200 [05:49<1:07:23, 21.97s/it]"
     ]
    },
    {
     "name": "stdout",
     "output_type": "stream",
     "text": [
      "Batch 16/200 - BLEU: 0.5178\n"
     ]
    },
    {
     "name": "stderr",
     "output_type": "stream",
     "text": [
      "Processing Batches:   8%|███                                 | 17/200 [06:14<1:09:56, 22.93s/it]"
     ]
    },
    {
     "name": "stdout",
     "output_type": "stream",
     "text": [
      "Batch 17/200 - BLEU: 0.5154\n"
     ]
    },
    {
     "name": "stderr",
     "output_type": "stream",
     "text": [
      "Processing Batches:   9%|███▏                                | 18/200 [06:35<1:08:31, 22.59s/it]"
     ]
    },
    {
     "name": "stdout",
     "output_type": "stream",
     "text": [
      "Batch 18/200 - BLEU: 0.5193\n"
     ]
    },
    {
     "name": "stderr",
     "output_type": "stream",
     "text": [
      "Processing Batches:  10%|███▍                                | 19/200 [06:59<1:08:53, 22.84s/it]"
     ]
    },
    {
     "name": "stdout",
     "output_type": "stream",
     "text": [
      "Batch 19/200 - BLEU: 0.4960\n"
     ]
    },
    {
     "name": "stderr",
     "output_type": "stream",
     "text": [
      "Processing Batches:  10%|███▌                                | 20/200 [07:20<1:07:03, 22.35s/it]"
     ]
    },
    {
     "name": "stdout",
     "output_type": "stream",
     "text": [
      "Batch 20/200 - BLEU: 0.5348\n"
     ]
    },
    {
     "name": "stderr",
     "output_type": "stream",
     "text": [
      "Processing Batches:  10%|███▊                                | 21/200 [07:41<1:05:25, 21.93s/it]"
     ]
    },
    {
     "name": "stdout",
     "output_type": "stream",
     "text": [
      "Batch 21/200 - BLEU: 0.5323\n"
     ]
    },
    {
     "name": "stderr",
     "output_type": "stream",
     "text": [
      "Processing Batches:  11%|███▉                                | 22/200 [08:00<1:02:10, 20.96s/it]"
     ]
    },
    {
     "name": "stdout",
     "output_type": "stream",
     "text": [
      "Batch 22/200 - BLEU: 0.5218\n"
     ]
    },
    {
     "name": "stderr",
     "output_type": "stream",
     "text": [
      "Processing Batches:  12%|████▏                               | 23/200 [08:21<1:01:51, 20.97s/it]"
     ]
    },
    {
     "name": "stdout",
     "output_type": "stream",
     "text": [
      "Batch 23/200 - BLEU: 0.5450\n"
     ]
    },
    {
     "name": "stderr",
     "output_type": "stream",
     "text": [
      "Processing Batches:  12%|████▎                               | 24/200 [08:41<1:00:58, 20.79s/it]"
     ]
    },
    {
     "name": "stdout",
     "output_type": "stream",
     "text": [
      "Batch 24/200 - BLEU: 0.3233\n"
     ]
    },
    {
     "name": "stderr",
     "output_type": "stream",
     "text": [
      "Processing Batches:  12%|████▌                               | 25/200 [09:08<1:05:35, 22.49s/it]"
     ]
    },
    {
     "name": "stdout",
     "output_type": "stream",
     "text": [
      "Batch 25/200 - BLEU: 0.2270\n"
     ]
    },
    {
     "name": "stderr",
     "output_type": "stream",
     "text": [
      "Processing Batches:  13%|████▋                               | 26/200 [09:32<1:07:00, 23.11s/it]"
     ]
    },
    {
     "name": "stdout",
     "output_type": "stream",
     "text": [
      "Batch 26/200 - BLEU: 0.2372\n"
     ]
    },
    {
     "name": "stderr",
     "output_type": "stream",
     "text": [
      "Processing Batches:  14%|████▊                               | 27/200 [09:54<1:05:42, 22.79s/it]"
     ]
    },
    {
     "name": "stdout",
     "output_type": "stream",
     "text": [
      "Batch 27/200 - BLEU: 0.3126\n"
     ]
    },
    {
     "name": "stderr",
     "output_type": "stream",
     "text": [
      "Processing Batches:  14%|█████                               | 28/200 [10:17<1:05:10, 22.73s/it]"
     ]
    },
    {
     "name": "stdout",
     "output_type": "stream",
     "text": [
      "Batch 28/200 - BLEU: 0.2634\n"
     ]
    },
    {
     "name": "stderr",
     "output_type": "stream",
     "text": [
      "Processing Batches:  14%|█████▏                              | 29/200 [10:42<1:06:40, 23.39s/it]"
     ]
    },
    {
     "name": "stdout",
     "output_type": "stream",
     "text": [
      "Batch 29/200 - BLEU: 0.2400\n"
     ]
    },
    {
     "name": "stderr",
     "output_type": "stream",
     "text": [
      "Processing Batches:  15%|█████▍                              | 30/200 [11:02<1:03:50, 22.53s/it]"
     ]
    },
    {
     "name": "stdout",
     "output_type": "stream",
     "text": [
      "Batch 30/200 - BLEU: 0.2409\n"
     ]
    },
    {
     "name": "stderr",
     "output_type": "stream",
     "text": [
      "Processing Batches:  16%|█████▌                              | 31/200 [11:22<1:01:23, 21.79s/it]"
     ]
    },
    {
     "name": "stdout",
     "output_type": "stream",
     "text": [
      "Batch 31/200 - BLEU: 0.3108\n"
     ]
    },
    {
     "name": "stderr",
     "output_type": "stream",
     "text": [
      "Processing Batches:  16%|██████                                | 32/200 [11:42<59:32, 21.26s/it]"
     ]
    },
    {
     "name": "stdout",
     "output_type": "stream",
     "text": [
      "Batch 32/200 - BLEU: 0.2787\n"
     ]
    },
    {
     "name": "stderr",
     "output_type": "stream",
     "text": [
      "Processing Batches:  16%|██████▎                               | 33/200 [12:03<58:26, 21.00s/it]"
     ]
    },
    {
     "name": "stdout",
     "output_type": "stream",
     "text": [
      "Batch 33/200 - BLEU: 0.2597\n"
     ]
    },
    {
     "name": "stderr",
     "output_type": "stream",
     "text": [
      "Processing Batches:  17%|██████▍                               | 34/200 [12:23<57:21, 20.73s/it]"
     ]
    },
    {
     "name": "stdout",
     "output_type": "stream",
     "text": [
      "Batch 34/200 - BLEU: 0.3145\n"
     ]
    },
    {
     "name": "stderr",
     "output_type": "stream",
     "text": [
      "Processing Batches:  18%|██████▋                               | 35/200 [12:41<54:55, 19.97s/it]"
     ]
    },
    {
     "name": "stdout",
     "output_type": "stream",
     "text": [
      "Batch 35/200 - BLEU: 0.2649\n"
     ]
    },
    {
     "name": "stderr",
     "output_type": "stream",
     "text": [
      "Processing Batches:  18%|██████▊                               | 36/200 [13:01<54:25, 19.91s/it]"
     ]
    },
    {
     "name": "stdout",
     "output_type": "stream",
     "text": [
      "Batch 36/200 - BLEU: 0.2655\n"
     ]
    },
    {
     "name": "stderr",
     "output_type": "stream",
     "text": [
      "Processing Batches:  18%|███████                               | 37/200 [13:20<53:27, 19.68s/it]"
     ]
    },
    {
     "name": "stdout",
     "output_type": "stream",
     "text": [
      "Batch 37/200 - BLEU: 0.2550\n"
     ]
    },
    {
     "name": "stderr",
     "output_type": "stream",
     "text": [
      "Processing Batches:  19%|███████▏                              | 38/200 [13:40<53:27, 19.80s/it]"
     ]
    },
    {
     "name": "stdout",
     "output_type": "stream",
     "text": [
      "Batch 38/200 - BLEU: 0.2992\n"
     ]
    },
    {
     "name": "stderr",
     "output_type": "stream",
     "text": [
      "Processing Batches:  20%|███████▍                              | 39/200 [14:06<57:47, 21.54s/it]"
     ]
    },
    {
     "name": "stdout",
     "output_type": "stream",
     "text": [
      "Batch 39/200 - BLEU: 0.2633\n"
     ]
    },
    {
     "name": "stderr",
     "output_type": "stream",
     "text": [
      "Processing Batches:  20%|███████▌                              | 40/200 [14:26<56:22, 21.14s/it]"
     ]
    },
    {
     "name": "stdout",
     "output_type": "stream",
     "text": [
      "Batch 40/200 - BLEU: 0.2588\n"
     ]
    },
    {
     "name": "stderr",
     "output_type": "stream",
     "text": [
      "Processing Batches:  20%|███████▊                              | 41/200 [14:47<56:05, 21.17s/it]"
     ]
    },
    {
     "name": "stdout",
     "output_type": "stream",
     "text": [
      "Batch 41/200 - BLEU: 0.2977\n"
     ]
    },
    {
     "name": "stderr",
     "output_type": "stream",
     "text": [
      "Processing Batches:  21%|███████▉                              | 42/200 [15:08<55:22, 21.03s/it]"
     ]
    },
    {
     "name": "stdout",
     "output_type": "stream",
     "text": [
      "Batch 42/200 - BLEU: 0.3012\n"
     ]
    },
    {
     "name": "stderr",
     "output_type": "stream",
     "text": [
      "Processing Batches:  22%|████████▏                             | 43/200 [15:29<55:03, 21.04s/it]"
     ]
    },
    {
     "name": "stdout",
     "output_type": "stream",
     "text": [
      "Batch 43/200 - BLEU: 0.2767\n"
     ]
    },
    {
     "name": "stderr",
     "output_type": "stream",
     "text": [
      "Processing Batches:  22%|████████▎                             | 44/200 [15:48<53:23, 20.53s/it]"
     ]
    },
    {
     "name": "stdout",
     "output_type": "stream",
     "text": [
      "Batch 44/200 - BLEU: 0.2292\n"
     ]
    },
    {
     "name": "stderr",
     "output_type": "stream",
     "text": [
      "Processing Batches:  22%|████████▌                             | 45/200 [16:09<53:18, 20.64s/it]"
     ]
    },
    {
     "name": "stdout",
     "output_type": "stream",
     "text": [
      "Batch 45/200 - BLEU: 0.2369\n"
     ]
    },
    {
     "name": "stderr",
     "output_type": "stream",
     "text": [
      "Processing Batches:  23%|████████▋                             | 46/200 [16:29<52:45, 20.55s/it]"
     ]
    },
    {
     "name": "stdout",
     "output_type": "stream",
     "text": [
      "Batch 46/200 - BLEU: 0.2493\n"
     ]
    },
    {
     "name": "stderr",
     "output_type": "stream",
     "text": [
      "Processing Batches:  24%|████████▉                             | 47/200 [16:51<53:16, 20.89s/it]"
     ]
    },
    {
     "name": "stdout",
     "output_type": "stream",
     "text": [
      "Batch 47/200 - BLEU: 0.2658\n"
     ]
    },
    {
     "name": "stderr",
     "output_type": "stream",
     "text": [
      "Processing Batches:  24%|█████████                             | 48/200 [17:12<53:18, 21.05s/it]"
     ]
    },
    {
     "name": "stdout",
     "output_type": "stream",
     "text": [
      "Batch 48/200 - BLEU: 0.2504\n"
     ]
    },
    {
     "name": "stderr",
     "output_type": "stream",
     "text": [
      "Processing Batches:  24%|█████████▎                            | 49/200 [17:32<51:56, 20.64s/it]"
     ]
    },
    {
     "name": "stdout",
     "output_type": "stream",
     "text": [
      "Batch 49/200 - BLEU: 0.2607\n"
     ]
    },
    {
     "name": "stderr",
     "output_type": "stream",
     "text": [
      "Processing Batches:  25%|█████████▌                            | 50/200 [17:51<50:26, 20.17s/it]"
     ]
    },
    {
     "name": "stdout",
     "output_type": "stream",
     "text": [
      "Batch 50/200 - BLEU: 0.2222\n"
     ]
    },
    {
     "name": "stderr",
     "output_type": "stream",
     "text": [
      "Processing Batches:  26%|█████████▋                            | 51/200 [18:12<50:17, 20.25s/it]"
     ]
    },
    {
     "name": "stdout",
     "output_type": "stream",
     "text": [
      "Batch 51/200 - BLEU: 0.2455\n"
     ]
    },
    {
     "name": "stderr",
     "output_type": "stream",
     "text": [
      "Processing Batches:  26%|█████████▉                            | 52/200 [18:32<49:44, 20.16s/it]"
     ]
    },
    {
     "name": "stdout",
     "output_type": "stream",
     "text": [
      "Batch 52/200 - BLEU: 0.2455\n"
     ]
    },
    {
     "name": "stderr",
     "output_type": "stream",
     "text": [
      "Processing Batches:  26%|██████████                            | 53/200 [18:52<49:18, 20.13s/it]"
     ]
    },
    {
     "name": "stdout",
     "output_type": "stream",
     "text": [
      "Batch 53/200 - BLEU: 0.2517\n"
     ]
    },
    {
     "name": "stderr",
     "output_type": "stream",
     "text": [
      "Processing Batches:  27%|██████████▎                           | 54/200 [19:13<49:47, 20.46s/it]"
     ]
    },
    {
     "name": "stdout",
     "output_type": "stream",
     "text": [
      "Batch 54/200 - BLEU: 0.2542\n"
     ]
    },
    {
     "name": "stderr",
     "output_type": "stream",
     "text": [
      "Processing Batches:  28%|██████████▍                           | 55/200 [19:34<50:03, 20.72s/it]"
     ]
    },
    {
     "name": "stdout",
     "output_type": "stream",
     "text": [
      "Batch 55/200 - BLEU: 0.2667\n"
     ]
    },
    {
     "name": "stderr",
     "output_type": "stream",
     "text": [
      "Processing Batches:  28%|██████████▋                           | 56/200 [19:55<49:49, 20.76s/it]"
     ]
    },
    {
     "name": "stdout",
     "output_type": "stream",
     "text": [
      "Batch 56/200 - BLEU: 0.2480\n"
     ]
    },
    {
     "name": "stderr",
     "output_type": "stream",
     "text": [
      "Processing Batches:  28%|██████████▊                           | 57/200 [20:14<48:04, 20.17s/it]"
     ]
    },
    {
     "name": "stdout",
     "output_type": "stream",
     "text": [
      "Batch 57/200 - BLEU: 0.2459\n"
     ]
    },
    {
     "name": "stderr",
     "output_type": "stream",
     "text": [
      "Processing Batches:  29%|███████████                           | 58/200 [20:35<48:02, 20.30s/it]"
     ]
    },
    {
     "name": "stdout",
     "output_type": "stream",
     "text": [
      "Batch 58/200 - BLEU: 0.4680\n"
     ]
    },
    {
     "name": "stderr",
     "output_type": "stream",
     "text": [
      "Processing Batches:  30%|███████████▏                          | 59/200 [20:55<47:40, 20.29s/it]"
     ]
    },
    {
     "name": "stdout",
     "output_type": "stream",
     "text": [
      "Batch 59/200 - BLEU: 0.5499\n"
     ]
    },
    {
     "name": "stderr",
     "output_type": "stream",
     "text": [
      "Processing Batches:  30%|███████████▍                          | 60/200 [21:16<48:08, 20.63s/it]"
     ]
    },
    {
     "name": "stdout",
     "output_type": "stream",
     "text": [
      "Batch 60/200 - BLEU: 0.5095\n"
     ]
    },
    {
     "name": "stderr",
     "output_type": "stream",
     "text": [
      "Processing Batches:  30%|███████████▌                          | 61/200 [21:38<48:42, 21.03s/it]"
     ]
    },
    {
     "name": "stdout",
     "output_type": "stream",
     "text": [
      "Batch 61/200 - BLEU: 0.5843\n"
     ]
    },
    {
     "name": "stderr",
     "output_type": "stream",
     "text": [
      "Processing Batches:  31%|███████████▊                          | 62/200 [22:01<49:52, 21.69s/it]"
     ]
    },
    {
     "name": "stdout",
     "output_type": "stream",
     "text": [
      "Batch 62/200 - BLEU: 0.5766\n"
     ]
    },
    {
     "name": "stderr",
     "output_type": "stream",
     "text": [
      "Processing Batches:  32%|███████████▉                          | 63/200 [22:24<50:26, 22.09s/it]"
     ]
    },
    {
     "name": "stdout",
     "output_type": "stream",
     "text": [
      "Batch 63/200 - BLEU: 0.4886\n"
     ]
    },
    {
     "name": "stderr",
     "output_type": "stream",
     "text": [
      "Processing Batches:  32%|████████████▏                         | 64/200 [22:50<52:09, 23.01s/it]"
     ]
    },
    {
     "name": "stdout",
     "output_type": "stream",
     "text": [
      "Batch 64/200 - BLEU: 0.4668\n"
     ]
    },
    {
     "name": "stderr",
     "output_type": "stream",
     "text": [
      "Processing Batches:  32%|████████████▎                         | 65/200 [23:09<49:08, 21.84s/it]"
     ]
    },
    {
     "name": "stdout",
     "output_type": "stream",
     "text": [
      "Batch 65/200 - BLEU: 0.4987\n"
     ]
    },
    {
     "name": "stderr",
     "output_type": "stream",
     "text": [
      "Processing Batches:  33%|████████████▌                         | 66/200 [23:31<48:50, 21.87s/it]"
     ]
    },
    {
     "name": "stdout",
     "output_type": "stream",
     "text": [
      "Batch 66/200 - BLEU: 0.6011\n"
     ]
    },
    {
     "name": "stderr",
     "output_type": "stream",
     "text": [
      "Processing Batches:  34%|████████████▋                         | 67/200 [23:50<46:53, 21.15s/it]"
     ]
    },
    {
     "name": "stdout",
     "output_type": "stream",
     "text": [
      "Batch 67/200 - BLEU: 0.5654\n"
     ]
    },
    {
     "name": "stderr",
     "output_type": "stream",
     "text": [
      "Processing Batches:  34%|████████████▉                         | 68/200 [24:12<47:12, 21.45s/it]"
     ]
    },
    {
     "name": "stdout",
     "output_type": "stream",
     "text": [
      "Batch 68/200 - BLEU: 0.5591\n"
     ]
    },
    {
     "name": "stderr",
     "output_type": "stream",
     "text": [
      "Processing Batches:  34%|█████████████                         | 69/200 [24:35<47:39, 21.83s/it]"
     ]
    },
    {
     "name": "stdout",
     "output_type": "stream",
     "text": [
      "Batch 69/200 - BLEU: 0.6152\n"
     ]
    },
    {
     "name": "stderr",
     "output_type": "stream",
     "text": [
      "Processing Batches:  35%|█████████████▎                        | 70/200 [24:55<46:03, 21.25s/it]"
     ]
    },
    {
     "name": "stdout",
     "output_type": "stream",
     "text": [
      "Batch 70/200 - BLEU: 0.5786\n"
     ]
    },
    {
     "name": "stderr",
     "output_type": "stream",
     "text": [
      "Processing Batches:  36%|█████████████▍                        | 71/200 [25:18<47:05, 21.90s/it]"
     ]
    },
    {
     "name": "stdout",
     "output_type": "stream",
     "text": [
      "Batch 71/200 - BLEU: 0.5695\n"
     ]
    },
    {
     "name": "stderr",
     "output_type": "stream",
     "text": [
      "Processing Batches:  36%|█████████████▋                        | 72/200 [25:44<49:06, 23.02s/it]"
     ]
    },
    {
     "name": "stdout",
     "output_type": "stream",
     "text": [
      "Batch 72/200 - BLEU: 0.5883\n"
     ]
    },
    {
     "name": "stderr",
     "output_type": "stream",
     "text": [
      "Processing Batches:  36%|█████████████▊                        | 73/200 [26:09<50:01, 23.64s/it]"
     ]
    },
    {
     "name": "stdout",
     "output_type": "stream",
     "text": [
      "Batch 73/200 - BLEU: 0.5896\n"
     ]
    },
    {
     "name": "stderr",
     "output_type": "stream",
     "text": [
      "Processing Batches:  37%|██████████████                        | 74/200 [26:29<47:28, 22.61s/it]"
     ]
    },
    {
     "name": "stdout",
     "output_type": "stream",
     "text": [
      "Batch 74/200 - BLEU: 0.5867\n"
     ]
    },
    {
     "name": "stderr",
     "output_type": "stream",
     "text": [
      "Processing Batches:  38%|██████████████▎                       | 75/200 [26:55<49:20, 23.69s/it]"
     ]
    },
    {
     "name": "stdout",
     "output_type": "stream",
     "text": [
      "Batch 75/200 - BLEU: 0.5490\n"
     ]
    },
    {
     "name": "stderr",
     "output_type": "stream",
     "text": [
      "Processing Batches:  38%|██████████████▍                       | 76/200 [27:26<53:10, 25.73s/it]"
     ]
    },
    {
     "name": "stdout",
     "output_type": "stream",
     "text": [
      "Batch 76/200 - BLEU: 0.4909\n"
     ]
    },
    {
     "name": "stderr",
     "output_type": "stream",
     "text": [
      "Processing Batches:  38%|██████████████▋                       | 77/200 [27:50<51:48, 25.27s/it]"
     ]
    },
    {
     "name": "stdout",
     "output_type": "stream",
     "text": [
      "Batch 77/200 - BLEU: 0.5778\n"
     ]
    },
    {
     "name": "stderr",
     "output_type": "stream",
     "text": [
      "Processing Batches:  39%|██████████████▊                       | 78/200 [28:10<47:52, 23.54s/it]"
     ]
    },
    {
     "name": "stdout",
     "output_type": "stream",
     "text": [
      "Batch 78/200 - BLEU: 0.5376\n"
     ]
    },
    {
     "name": "stderr",
     "output_type": "stream",
     "text": [
      "Processing Batches:  40%|███████████████                       | 79/200 [28:34<47:52, 23.74s/it]"
     ]
    },
    {
     "name": "stdout",
     "output_type": "stream",
     "text": [
      "Batch 79/200 - BLEU: 0.5621\n"
     ]
    },
    {
     "name": "stderr",
     "output_type": "stream",
     "text": [
      "Processing Batches:  40%|███████████████▏                      | 80/200 [28:53<44:37, 22.31s/it]"
     ]
    },
    {
     "name": "stdout",
     "output_type": "stream",
     "text": [
      "Batch 80/200 - BLEU: 0.5360\n"
     ]
    },
    {
     "name": "stderr",
     "output_type": "stream",
     "text": [
      "Processing Batches:  40%|███████████████▍                      | 81/200 [29:16<44:54, 22.64s/it]"
     ]
    },
    {
     "name": "stdout",
     "output_type": "stream",
     "text": [
      "Batch 81/200 - BLEU: 0.5265\n"
     ]
    },
    {
     "name": "stderr",
     "output_type": "stream",
     "text": [
      "Processing Batches:  41%|███████████████▌                      | 82/200 [29:42<46:05, 23.43s/it]"
     ]
    },
    {
     "name": "stdout",
     "output_type": "stream",
     "text": [
      "Batch 82/200 - BLEU: 0.5683\n"
     ]
    },
    {
     "name": "stderr",
     "output_type": "stream",
     "text": [
      "Processing Batches:  42%|███████████████▊                      | 83/200 [30:04<45:04, 23.11s/it]"
     ]
    },
    {
     "name": "stdout",
     "output_type": "stream",
     "text": [
      "Batch 83/200 - BLEU: 0.5415\n"
     ]
    },
    {
     "name": "stderr",
     "output_type": "stream",
     "text": [
      "Processing Batches:  42%|███████████████▉                      | 84/200 [30:28<45:21, 23.46s/it]"
     ]
    },
    {
     "name": "stdout",
     "output_type": "stream",
     "text": [
      "Batch 84/200 - BLEU: 0.5292\n"
     ]
    },
    {
     "name": "stderr",
     "output_type": "stream",
     "text": [
      "Processing Batches:  42%|████████████████▏                     | 85/200 [30:53<45:44, 23.87s/it]"
     ]
    },
    {
     "name": "stdout",
     "output_type": "stream",
     "text": [
      "Batch 85/200 - BLEU: 0.5313\n"
     ]
    },
    {
     "name": "stderr",
     "output_type": "stream",
     "text": [
      "Processing Batches:  43%|████████████████▎                     | 86/200 [31:16<45:01, 23.70s/it]"
     ]
    },
    {
     "name": "stdout",
     "output_type": "stream",
     "text": [
      "Batch 86/200 - BLEU: 0.5107\n"
     ]
    },
    {
     "name": "stderr",
     "output_type": "stream",
     "text": [
      "Processing Batches:  44%|████████████████▌                     | 87/200 [31:40<44:36, 23.68s/it]"
     ]
    },
    {
     "name": "stdout",
     "output_type": "stream",
     "text": [
      "Batch 87/200 - BLEU: 0.5102\n"
     ]
    },
    {
     "name": "stderr",
     "output_type": "stream",
     "text": [
      "Processing Batches:  44%|████████████████▋                     | 88/200 [32:03<43:37, 23.37s/it]"
     ]
    },
    {
     "name": "stdout",
     "output_type": "stream",
     "text": [
      "Batch 88/200 - BLEU: 0.5496\n"
     ]
    },
    {
     "name": "stderr",
     "output_type": "stream",
     "text": [
      "Processing Batches:  44%|████████████████▉                     | 89/200 [32:28<44:38, 24.13s/it]"
     ]
    },
    {
     "name": "stdout",
     "output_type": "stream",
     "text": [
      "Batch 89/200 - BLEU: 0.4903\n"
     ]
    },
    {
     "name": "stderr",
     "output_type": "stream",
     "text": [
      "Processing Batches:  45%|█████████████████                     | 90/200 [32:52<43:51, 23.92s/it]"
     ]
    },
    {
     "name": "stdout",
     "output_type": "stream",
     "text": [
      "Batch 90/200 - BLEU: 0.5779\n"
     ]
    },
    {
     "name": "stderr",
     "output_type": "stream",
     "text": [
      "Processing Batches:  46%|█████████████████▎                    | 91/200 [33:16<43:31, 23.96s/it]"
     ]
    },
    {
     "name": "stdout",
     "output_type": "stream",
     "text": [
      "Batch 91/200 - BLEU: 0.5656\n"
     ]
    },
    {
     "name": "stderr",
     "output_type": "stream",
     "text": [
      "Processing Batches:  46%|█████████████████▍                    | 92/200 [33:34<40:07, 22.29s/it]"
     ]
    },
    {
     "name": "stdout",
     "output_type": "stream",
     "text": [
      "Batch 92/200 - BLEU: 0.4995\n"
     ]
    },
    {
     "name": "stderr",
     "output_type": "stream",
     "text": [
      "Processing Batches:  46%|█████████████████▋                    | 93/200 [33:55<38:55, 21.83s/it]"
     ]
    },
    {
     "name": "stdout",
     "output_type": "stream",
     "text": [
      "Batch 93/200 - BLEU: 0.5618\n"
     ]
    },
    {
     "name": "stderr",
     "output_type": "stream",
     "text": [
      "Processing Batches:  47%|█████████████████▊                    | 94/200 [34:16<37:56, 21.48s/it]"
     ]
    },
    {
     "name": "stdout",
     "output_type": "stream",
     "text": [
      "Batch 94/200 - BLEU: 0.5528\n"
     ]
    },
    {
     "name": "stderr",
     "output_type": "stream",
     "text": [
      "Processing Batches:  48%|██████████████████                    | 95/200 [34:38<37:52, 21.64s/it]"
     ]
    },
    {
     "name": "stdout",
     "output_type": "stream",
     "text": [
      "Batch 95/200 - BLEU: 0.5749\n"
     ]
    },
    {
     "name": "stderr",
     "output_type": "stream",
     "text": [
      "Processing Batches:  48%|██████████████████▏                   | 96/200 [34:58<36:40, 21.16s/it]"
     ]
    },
    {
     "name": "stdout",
     "output_type": "stream",
     "text": [
      "Batch 96/200 - BLEU: 0.5477\n"
     ]
    },
    {
     "name": "stderr",
     "output_type": "stream",
     "text": [
      "Processing Batches:  48%|██████████████████▍                   | 97/200 [35:19<36:23, 21.20s/it]"
     ]
    },
    {
     "name": "stdout",
     "output_type": "stream",
     "text": [
      "Batch 97/200 - BLEU: 0.5380\n"
     ]
    },
    {
     "name": "stderr",
     "output_type": "stream",
     "text": [
      "Processing Batches:  49%|██████████████████▌                   | 98/200 [35:48<39:58, 23.51s/it]"
     ]
    },
    {
     "name": "stdout",
     "output_type": "stream",
     "text": [
      "Batch 98/200 - BLEU: 0.5034\n"
     ]
    },
    {
     "name": "stderr",
     "output_type": "stream",
     "text": [
      "Processing Batches:  50%|██████████████████▊                   | 99/200 [36:10<38:35, 22.93s/it]"
     ]
    },
    {
     "name": "stdout",
     "output_type": "stream",
     "text": [
      "Batch 99/200 - BLEU: 0.5835\n"
     ]
    },
    {
     "name": "stderr",
     "output_type": "stream",
     "text": [
      "Processing Batches:  50%|██████████████████▌                  | 100/200 [36:30<36:52, 22.13s/it]"
     ]
    },
    {
     "name": "stdout",
     "output_type": "stream",
     "text": [
      "Batch 100/200 - BLEU: 0.5671\n"
     ]
    },
    {
     "name": "stderr",
     "output_type": "stream",
     "text": [
      "Processing Batches:  50%|██████████████████▋                  | 101/200 [36:52<36:44, 22.26s/it]"
     ]
    },
    {
     "name": "stdout",
     "output_type": "stream",
     "text": [
      "Batch 101/200 - BLEU: 0.5966\n"
     ]
    },
    {
     "name": "stderr",
     "output_type": "stream",
     "text": [
      "Processing Batches:  51%|██████████████████▊                  | 102/200 [37:15<36:17, 22.22s/it]"
     ]
    },
    {
     "name": "stdout",
     "output_type": "stream",
     "text": [
      "Batch 102/200 - BLEU: 0.5683\n"
     ]
    },
    {
     "name": "stderr",
     "output_type": "stream",
     "text": [
      "Processing Batches:  52%|███████████████████                  | 103/200 [37:38<36:24, 22.52s/it]"
     ]
    },
    {
     "name": "stdout",
     "output_type": "stream",
     "text": [
      "Batch 103/200 - BLEU: 0.6228\n"
     ]
    },
    {
     "name": "stderr",
     "output_type": "stream",
     "text": [
      "Processing Batches:  52%|███████████████████▏                 | 104/200 [37:59<35:32, 22.22s/it]"
     ]
    },
    {
     "name": "stdout",
     "output_type": "stream",
     "text": [
      "Batch 104/200 - BLEU: 0.6154\n"
     ]
    },
    {
     "name": "stderr",
     "output_type": "stream",
     "text": [
      "Processing Batches:  52%|███████████████████▍                 | 105/200 [38:20<34:38, 21.88s/it]"
     ]
    },
    {
     "name": "stdout",
     "output_type": "stream",
     "text": [
      "Batch 105/200 - BLEU: 0.6038\n"
     ]
    },
    {
     "name": "stderr",
     "output_type": "stream",
     "text": [
      "Processing Batches:  53%|███████████████████▌                 | 106/200 [38:43<34:43, 22.16s/it]"
     ]
    },
    {
     "name": "stdout",
     "output_type": "stream",
     "text": [
      "Batch 106/200 - BLEU: 0.5141\n"
     ]
    },
    {
     "name": "stderr",
     "output_type": "stream",
     "text": [
      "Processing Batches:  54%|███████████████████▊                 | 107/200 [39:04<33:56, 21.89s/it]"
     ]
    },
    {
     "name": "stdout",
     "output_type": "stream",
     "text": [
      "Batch 107/200 - BLEU: 0.5868\n"
     ]
    },
    {
     "name": "stderr",
     "output_type": "stream",
     "text": [
      "Processing Batches:  54%|███████████████████▉                 | 108/200 [39:29<34:50, 22.73s/it]"
     ]
    },
    {
     "name": "stdout",
     "output_type": "stream",
     "text": [
      "Batch 108/200 - BLEU: 0.5452\n"
     ]
    },
    {
     "name": "stderr",
     "output_type": "stream",
     "text": [
      "Processing Batches:  55%|████████████████████▏                | 109/200 [39:49<33:15, 21.93s/it]"
     ]
    },
    {
     "name": "stdout",
     "output_type": "stream",
     "text": [
      "Batch 109/200 - BLEU: 0.6252\n"
     ]
    },
    {
     "name": "stderr",
     "output_type": "stream",
     "text": [
      "Processing Batches:  55%|████████████████████▎                | 110/200 [40:10<32:23, 21.59s/it]"
     ]
    },
    {
     "name": "stdout",
     "output_type": "stream",
     "text": [
      "Batch 110/200 - BLEU: 0.6021\n"
     ]
    },
    {
     "name": "stderr",
     "output_type": "stream",
     "text": [
      "Processing Batches:  56%|████████████████████▌                | 111/200 [40:35<33:40, 22.70s/it]"
     ]
    },
    {
     "name": "stdout",
     "output_type": "stream",
     "text": [
      "Batch 111/200 - BLEU: 0.5631\n"
     ]
    },
    {
     "name": "stderr",
     "output_type": "stream",
     "text": [
      "Processing Batches:  56%|████████████████████▋                | 112/200 [40:57<32:56, 22.46s/it]"
     ]
    },
    {
     "name": "stdout",
     "output_type": "stream",
     "text": [
      "Batch 112/200 - BLEU: 0.5599\n"
     ]
    },
    {
     "name": "stderr",
     "output_type": "stream",
     "text": [
      "Processing Batches:  56%|████████████████████▉                | 113/200 [41:23<34:13, 23.60s/it]"
     ]
    },
    {
     "name": "stdout",
     "output_type": "stream",
     "text": [
      "Batch 113/200 - BLEU: 0.5302\n"
     ]
    },
    {
     "name": "stderr",
     "output_type": "stream",
     "text": [
      "Processing Batches:  57%|█████████████████████                | 114/200 [41:47<33:56, 23.68s/it]"
     ]
    },
    {
     "name": "stdout",
     "output_type": "stream",
     "text": [
      "Batch 114/200 - BLEU: 0.5706\n"
     ]
    },
    {
     "name": "stderr",
     "output_type": "stream",
     "text": [
      "Processing Batches:  57%|█████████████████████▎               | 115/200 [42:10<32:58, 23.28s/it]"
     ]
    },
    {
     "name": "stdout",
     "output_type": "stream",
     "text": [
      "Batch 115/200 - BLEU: 0.6118\n"
     ]
    },
    {
     "name": "stderr",
     "output_type": "stream",
     "text": [
      "Processing Batches:  58%|█████████████████████▍               | 116/200 [42:33<32:34, 23.26s/it]"
     ]
    },
    {
     "name": "stdout",
     "output_type": "stream",
     "text": [
      "Batch 116/200 - BLEU: 0.5762\n"
     ]
    },
    {
     "name": "stderr",
     "output_type": "stream",
     "text": [
      "Processing Batches:  58%|█████████████████████▋               | 117/200 [42:55<31:50, 23.01s/it]"
     ]
    },
    {
     "name": "stdout",
     "output_type": "stream",
     "text": [
      "Batch 117/200 - BLEU: 0.5502\n"
     ]
    },
    {
     "name": "stderr",
     "output_type": "stream",
     "text": [
      "Processing Batches:  59%|█████████████████████▊               | 118/200 [43:18<31:27, 23.02s/it]"
     ]
    },
    {
     "name": "stdout",
     "output_type": "stream",
     "text": [
      "Batch 118/200 - BLEU: 0.5517\n"
     ]
    },
    {
     "name": "stderr",
     "output_type": "stream",
     "text": [
      "Processing Batches:  60%|██████████████████████               | 119/200 [43:42<31:09, 23.09s/it]"
     ]
    },
    {
     "name": "stdout",
     "output_type": "stream",
     "text": [
      "Batch 119/200 - BLEU: 0.5230\n"
     ]
    },
    {
     "name": "stderr",
     "output_type": "stream",
     "text": [
      "Processing Batches:  60%|██████████████████████▏              | 120/200 [44:05<31:05, 23.32s/it]"
     ]
    },
    {
     "name": "stdout",
     "output_type": "stream",
     "text": [
      "Batch 120/200 - BLEU: 0.5891\n"
     ]
    },
    {
     "name": "stderr",
     "output_type": "stream",
     "text": [
      "Processing Batches:  60%|██████████████████████▍              | 121/200 [44:30<31:13, 23.71s/it]"
     ]
    },
    {
     "name": "stdout",
     "output_type": "stream",
     "text": [
      "Batch 121/200 - BLEU: 0.5867\n"
     ]
    },
    {
     "name": "stderr",
     "output_type": "stream",
     "text": [
      "Processing Batches:  61%|██████████████████████▌              | 122/200 [44:52<30:12, 23.23s/it]"
     ]
    },
    {
     "name": "stdout",
     "output_type": "stream",
     "text": [
      "Batch 122/200 - BLEU: 0.5629\n"
     ]
    },
    {
     "name": "stderr",
     "output_type": "stream",
     "text": [
      "Processing Batches:  62%|██████████████████████▊              | 123/200 [45:12<28:25, 22.15s/it]"
     ]
    },
    {
     "name": "stdout",
     "output_type": "stream",
     "text": [
      "Batch 123/200 - BLEU: 0.5638\n"
     ]
    },
    {
     "name": "stderr",
     "output_type": "stream",
     "text": [
      "Processing Batches:  62%|██████████████████████▉              | 124/200 [45:35<28:27, 22.47s/it]"
     ]
    },
    {
     "name": "stdout",
     "output_type": "stream",
     "text": [
      "Batch 124/200 - BLEU: 0.5843\n"
     ]
    },
    {
     "name": "stderr",
     "output_type": "stream",
     "text": [
      "Processing Batches:  62%|███████████████████████▏             | 125/200 [45:57<27:55, 22.34s/it]"
     ]
    },
    {
     "name": "stdout",
     "output_type": "stream",
     "text": [
      "Batch 125/200 - BLEU: 0.5552\n"
     ]
    },
    {
     "name": "stderr",
     "output_type": "stream",
     "text": [
      "Processing Batches:  63%|███████████████████████▎             | 126/200 [46:22<28:28, 23.08s/it]"
     ]
    },
    {
     "name": "stdout",
     "output_type": "stream",
     "text": [
      "Batch 126/200 - BLEU: 0.4625\n"
     ]
    },
    {
     "name": "stderr",
     "output_type": "stream",
     "text": [
      "Processing Batches:  64%|███████████████████████▍             | 127/200 [46:51<30:19, 24.93s/it]"
     ]
    },
    {
     "name": "stdout",
     "output_type": "stream",
     "text": [
      "Batch 127/200 - BLEU: 0.5191\n"
     ]
    },
    {
     "name": "stderr",
     "output_type": "stream",
     "text": [
      "Processing Batches:  64%|███████████████████████▋             | 128/200 [47:19<30:50, 25.71s/it]"
     ]
    },
    {
     "name": "stdout",
     "output_type": "stream",
     "text": [
      "Batch 128/200 - BLEU: 0.5423\n"
     ]
    },
    {
     "name": "stderr",
     "output_type": "stream",
     "text": [
      "Processing Batches:  64%|███████████████████████▊             | 129/200 [47:45<30:39, 25.91s/it]"
     ]
    },
    {
     "name": "stdout",
     "output_type": "stream",
     "text": [
      "Batch 129/200 - BLEU: 0.6085\n"
     ]
    },
    {
     "name": "stderr",
     "output_type": "stream",
     "text": [
      "Processing Batches:  65%|████████████████████████             | 130/200 [48:09<29:27, 25.25s/it]"
     ]
    },
    {
     "name": "stdout",
     "output_type": "stream",
     "text": [
      "Batch 130/200 - BLEU: 0.5920\n"
     ]
    },
    {
     "name": "stderr",
     "output_type": "stream",
     "text": [
      "Processing Batches:  66%|████████████████████████▏            | 131/200 [48:35<29:30, 25.66s/it]"
     ]
    },
    {
     "name": "stdout",
     "output_type": "stream",
     "text": [
      "Batch 131/200 - BLEU: 0.2640\n"
     ]
    },
    {
     "name": "stderr",
     "output_type": "stream",
     "text": [
      "Processing Batches:  66%|████████████████████████▍            | 132/200 [48:57<27:35, 24.35s/it]"
     ]
    },
    {
     "name": "stdout",
     "output_type": "stream",
     "text": [
      "Batch 132/200 - BLEU: 0.2610\n"
     ]
    },
    {
     "name": "stderr",
     "output_type": "stream",
     "text": [
      "Processing Batches:  66%|████████████████████████▌            | 133/200 [49:22<27:34, 24.69s/it]"
     ]
    },
    {
     "name": "stdout",
     "output_type": "stream",
     "text": [
      "Batch 133/200 - BLEU: 0.2452\n"
     ]
    },
    {
     "name": "stderr",
     "output_type": "stream",
     "text": [
      "Processing Batches:  67%|████████████████████████▊            | 134/200 [49:47<27:09, 24.68s/it]"
     ]
    },
    {
     "name": "stdout",
     "output_type": "stream",
     "text": [
      "Batch 134/200 - BLEU: 0.2196\n"
     ]
    },
    {
     "name": "stderr",
     "output_type": "stream",
     "text": [
      "Processing Batches:  68%|████████████████████████▉            | 135/200 [50:10<26:06, 24.10s/it]"
     ]
    },
    {
     "name": "stdout",
     "output_type": "stream",
     "text": [
      "Batch 135/200 - BLEU: 0.2898\n"
     ]
    },
    {
     "name": "stderr",
     "output_type": "stream",
     "text": [
      "Processing Batches:  68%|█████████████████████████▏           | 136/200 [50:34<25:58, 24.34s/it]"
     ]
    },
    {
     "name": "stdout",
     "output_type": "stream",
     "text": [
      "Batch 136/200 - BLEU: 0.2899\n"
     ]
    },
    {
     "name": "stderr",
     "output_type": "stream",
     "text": [
      "Processing Batches:  68%|█████████████████████████▎           | 137/200 [50:56<24:42, 23.54s/it]"
     ]
    },
    {
     "name": "stdout",
     "output_type": "stream",
     "text": [
      "Batch 137/200 - BLEU: 0.2744\n"
     ]
    },
    {
     "name": "stderr",
     "output_type": "stream",
     "text": [
      "Processing Batches:  69%|█████████████████████████▌           | 138/200 [51:19<24:09, 23.38s/it]"
     ]
    },
    {
     "name": "stdout",
     "output_type": "stream",
     "text": [
      "Batch 138/200 - BLEU: 0.2582\n"
     ]
    },
    {
     "name": "stderr",
     "output_type": "stream",
     "text": [
      "Processing Batches:  70%|█████████████████████████▋           | 139/200 [51:39<22:40, 22.30s/it]"
     ]
    },
    {
     "name": "stdout",
     "output_type": "stream",
     "text": [
      "Batch 139/200 - BLEU: 0.2757\n"
     ]
    },
    {
     "name": "stderr",
     "output_type": "stream",
     "text": [
      "Processing Batches:  70%|█████████████████████████▉           | 140/200 [52:00<21:48, 21.81s/it]"
     ]
    },
    {
     "name": "stdout",
     "output_type": "stream",
     "text": [
      "Batch 140/200 - BLEU: 0.2721\n"
     ]
    },
    {
     "name": "stderr",
     "output_type": "stream",
     "text": [
      "Processing Batches:  70%|██████████████████████████           | 141/200 [52:21<21:24, 21.77s/it]"
     ]
    },
    {
     "name": "stdout",
     "output_type": "stream",
     "text": [
      "Batch 141/200 - BLEU: 0.3022\n"
     ]
    },
    {
     "name": "stderr",
     "output_type": "stream",
     "text": [
      "Processing Batches:  71%|██████████████████████████▎          | 142/200 [52:42<20:52, 21.60s/it]"
     ]
    },
    {
     "name": "stdout",
     "output_type": "stream",
     "text": [
      "Batch 142/200 - BLEU: 0.2539\n"
     ]
    },
    {
     "name": "stderr",
     "output_type": "stream",
     "text": [
      "Processing Batches:  72%|██████████████████████████▍          | 143/200 [53:06<21:04, 22.19s/it]"
     ]
    },
    {
     "name": "stdout",
     "output_type": "stream",
     "text": [
      "Batch 143/200 - BLEU: 0.2892\n"
     ]
    },
    {
     "name": "stderr",
     "output_type": "stream",
     "text": [
      "Processing Batches:  72%|██████████████████████████▋          | 144/200 [53:28<20:34, 22.05s/it]"
     ]
    },
    {
     "name": "stdout",
     "output_type": "stream",
     "text": [
      "Batch 144/200 - BLEU: 0.2910\n"
     ]
    },
    {
     "name": "stderr",
     "output_type": "stream",
     "text": [
      "Processing Batches:  72%|██████████████████████████▊          | 145/200 [53:50<20:14, 22.09s/it]"
     ]
    },
    {
     "name": "stdout",
     "output_type": "stream",
     "text": [
      "Batch 145/200 - BLEU: 0.2551\n"
     ]
    },
    {
     "name": "stderr",
     "output_type": "stream",
     "text": [
      "Processing Batches:  73%|███████████████████████████          | 146/200 [54:10<19:18, 21.45s/it]"
     ]
    },
    {
     "name": "stdout",
     "output_type": "stream",
     "text": [
      "Batch 146/200 - BLEU: 0.2673\n"
     ]
    },
    {
     "name": "stderr",
     "output_type": "stream",
     "text": [
      "Processing Batches:  74%|███████████████████████████▏         | 147/200 [54:31<18:48, 21.30s/it]"
     ]
    },
    {
     "name": "stdout",
     "output_type": "stream",
     "text": [
      "Batch 147/200 - BLEU: 0.2772\n"
     ]
    },
    {
     "name": "stderr",
     "output_type": "stream",
     "text": [
      "Processing Batches:  74%|███████████████████████████▍         | 148/200 [54:51<18:12, 21.02s/it]"
     ]
    },
    {
     "name": "stdout",
     "output_type": "stream",
     "text": [
      "Batch 148/200 - BLEU: 0.2605\n"
     ]
    },
    {
     "name": "stderr",
     "output_type": "stream",
     "text": [
      "Processing Batches:  74%|███████████████████████████▌         | 149/200 [55:09<17:03, 20.07s/it]"
     ]
    },
    {
     "name": "stdout",
     "output_type": "stream",
     "text": [
      "Batch 149/200 - BLEU: 0.2697\n"
     ]
    },
    {
     "name": "stderr",
     "output_type": "stream",
     "text": [
      "Processing Batches:  75%|███████████████████████████▊         | 150/200 [55:28<16:30, 19.80s/it]"
     ]
    },
    {
     "name": "stdout",
     "output_type": "stream",
     "text": [
      "Batch 150/200 - BLEU: 0.2512\n"
     ]
    },
    {
     "name": "stderr",
     "output_type": "stream",
     "text": [
      "Processing Batches:  76%|███████████████████████████▉         | 151/200 [55:46<15:34, 19.07s/it]"
     ]
    },
    {
     "name": "stdout",
     "output_type": "stream",
     "text": [
      "Batch 151/200 - BLEU: 0.2872\n"
     ]
    },
    {
     "name": "stderr",
     "output_type": "stream",
     "text": [
      "Processing Batches:  76%|████████████████████████████         | 152/200 [56:01<14:29, 18.11s/it]"
     ]
    },
    {
     "name": "stdout",
     "output_type": "stream",
     "text": [
      "Batch 152/200 - BLEU: 0.2346\n"
     ]
    },
    {
     "name": "stderr",
     "output_type": "stream",
     "text": [
      "Processing Batches:  76%|████████████████████████████▎        | 153/200 [56:20<14:22, 18.35s/it]"
     ]
    },
    {
     "name": "stdout",
     "output_type": "stream",
     "text": [
      "Batch 153/200 - BLEU: 0.2563\n"
     ]
    },
    {
     "name": "stderr",
     "output_type": "stream",
     "text": [
      "Processing Batches:  77%|████████████████████████████▍        | 154/200 [56:40<14:23, 18.77s/it]"
     ]
    },
    {
     "name": "stdout",
     "output_type": "stream",
     "text": [
      "Batch 154/200 - BLEU: 0.2311\n"
     ]
    },
    {
     "name": "stderr",
     "output_type": "stream",
     "text": [
      "Processing Batches:  78%|████████████████████████████▋        | 155/200 [57:00<14:19, 19.11s/it]"
     ]
    },
    {
     "name": "stdout",
     "output_type": "stream",
     "text": [
      "Batch 155/200 - BLEU: 0.2380\n"
     ]
    },
    {
     "name": "stderr",
     "output_type": "stream",
     "text": [
      "Processing Batches:  78%|████████████████████████████▊        | 156/200 [57:21<14:30, 19.78s/it]"
     ]
    },
    {
     "name": "stdout",
     "output_type": "stream",
     "text": [
      "Batch 156/200 - BLEU: 0.2432\n"
     ]
    },
    {
     "name": "stderr",
     "output_type": "stream",
     "text": [
      "Processing Batches:  78%|█████████████████████████████        | 157/200 [57:41<14:14, 19.88s/it]"
     ]
    },
    {
     "name": "stdout",
     "output_type": "stream",
     "text": [
      "Batch 157/200 - BLEU: 0.2506\n"
     ]
    },
    {
     "name": "stderr",
     "output_type": "stream",
     "text": [
      "Processing Batches:  79%|█████████████████████████████▏       | 158/200 [58:02<14:01, 20.03s/it]"
     ]
    },
    {
     "name": "stdout",
     "output_type": "stream",
     "text": [
      "Batch 158/200 - BLEU: 0.2678\n"
     ]
    },
    {
     "name": "stderr",
     "output_type": "stream",
     "text": [
      "Processing Batches:  80%|█████████████████████████████▍       | 159/200 [58:22<13:40, 20.01s/it]"
     ]
    },
    {
     "name": "stdout",
     "output_type": "stream",
     "text": [
      "Batch 159/200 - BLEU: 0.2853\n"
     ]
    },
    {
     "name": "stderr",
     "output_type": "stream",
     "text": [
      "Processing Batches:  80%|█████████████████████████████▌       | 160/200 [58:41<13:10, 19.76s/it]"
     ]
    },
    {
     "name": "stdout",
     "output_type": "stream",
     "text": [
      "Batch 160/200 - BLEU: 0.2489\n"
     ]
    },
    {
     "name": "stderr",
     "output_type": "stream",
     "text": [
      "Processing Batches:  80%|█████████████████████████████▊       | 161/200 [59:06<13:55, 21.42s/it]"
     ]
    },
    {
     "name": "stdout",
     "output_type": "stream",
     "text": [
      "Batch 161/200 - BLEU: 0.5669\n"
     ]
    },
    {
     "name": "stderr",
     "output_type": "stream",
     "text": [
      "Processing Batches:  81%|█████████████████████████████▉       | 162/200 [59:33<14:29, 22.89s/it]"
     ]
    },
    {
     "name": "stdout",
     "output_type": "stream",
     "text": [
      "Batch 162/200 - BLEU: 0.5875\n"
     ]
    },
    {
     "name": "stderr",
     "output_type": "stream",
     "text": [
      "Processing Batches:  82%|██████████████████████████████▏      | 163/200 [59:59<14:41, 23.83s/it]"
     ]
    },
    {
     "name": "stdout",
     "output_type": "stream",
     "text": [
      "Batch 163/200 - BLEU: 0.5894\n"
     ]
    },
    {
     "name": "stderr",
     "output_type": "stream",
     "text": [
      "Processing Batches:  82%|████████████████████████████▋      | 164/200 [1:00:22<14:10, 23.63s/it]"
     ]
    },
    {
     "name": "stdout",
     "output_type": "stream",
     "text": [
      "Batch 164/200 - BLEU: 0.5827\n"
     ]
    },
    {
     "name": "stderr",
     "output_type": "stream",
     "text": [
      "Processing Batches:  82%|████████████████████████████▉      | 165/200 [1:00:48<14:19, 24.56s/it]"
     ]
    },
    {
     "name": "stdout",
     "output_type": "stream",
     "text": [
      "Batch 165/200 - BLEU: 0.6049\n"
     ]
    },
    {
     "name": "stderr",
     "output_type": "stream",
     "text": [
      "Processing Batches:  83%|█████████████████████████████      | 166/200 [1:01:11<13:32, 23.89s/it]"
     ]
    },
    {
     "name": "stdout",
     "output_type": "stream",
     "text": [
      "Batch 166/200 - BLEU: 0.5849\n"
     ]
    },
    {
     "name": "stderr",
     "output_type": "stream",
     "text": [
      "Processing Batches:  84%|█████████████████████████████▏     | 167/200 [1:01:42<14:25, 26.23s/it]"
     ]
    },
    {
     "name": "stdout",
     "output_type": "stream",
     "text": [
      "Batch 167/200 - BLEU: 0.5709\n"
     ]
    },
    {
     "name": "stderr",
     "output_type": "stream",
     "text": [
      "Processing Batches:  84%|█████████████████████████████▍     | 168/200 [1:02:06<13:36, 25.52s/it]"
     ]
    },
    {
     "name": "stdout",
     "output_type": "stream",
     "text": [
      "Batch 168/200 - BLEU: 0.5726\n"
     ]
    },
    {
     "name": "stderr",
     "output_type": "stream",
     "text": [
      "Processing Batches:  84%|█████████████████████████████▌     | 169/200 [1:02:29<12:44, 24.65s/it]"
     ]
    },
    {
     "name": "stdout",
     "output_type": "stream",
     "text": [
      "Batch 169/200 - BLEU: 0.5131\n"
     ]
    },
    {
     "name": "stderr",
     "output_type": "stream",
     "text": [
      "Processing Batches:  85%|█████████████████████████████▊     | 170/200 [1:02:50<11:51, 23.71s/it]"
     ]
    },
    {
     "name": "stdout",
     "output_type": "stream",
     "text": [
      "Batch 170/200 - BLEU: 0.6345\n"
     ]
    },
    {
     "name": "stderr",
     "output_type": "stream",
     "text": [
      "Processing Batches:  86%|█████████████████████████████▉     | 171/200 [1:03:14<11:22, 23.54s/it]"
     ]
    },
    {
     "name": "stdout",
     "output_type": "stream",
     "text": [
      "Batch 171/200 - BLEU: 0.6038\n"
     ]
    },
    {
     "name": "stderr",
     "output_type": "stream",
     "text": [
      "Processing Batches:  86%|██████████████████████████████     | 172/200 [1:03:38<11:03, 23.69s/it]"
     ]
    },
    {
     "name": "stdout",
     "output_type": "stream",
     "text": [
      "Batch 172/200 - BLEU: 0.5810\n"
     ]
    },
    {
     "name": "stderr",
     "output_type": "stream",
     "text": [
      "Processing Batches:  86%|██████████████████████████████▎    | 173/200 [1:04:06<11:13, 24.93s/it]"
     ]
    },
    {
     "name": "stdout",
     "output_type": "stream",
     "text": [
      "Batch 173/200 - BLEU: 0.5970\n"
     ]
    },
    {
     "name": "stderr",
     "output_type": "stream",
     "text": [
      "Processing Batches:  87%|██████████████████████████████▍    | 174/200 [1:04:31<10:52, 25.11s/it]"
     ]
    },
    {
     "name": "stdout",
     "output_type": "stream",
     "text": [
      "Batch 174/200 - BLEU: 0.6044\n"
     ]
    },
    {
     "name": "stderr",
     "output_type": "stream",
     "text": [
      "Processing Batches:  88%|██████████████████████████████▋    | 175/200 [1:04:57<10:30, 25.22s/it]"
     ]
    },
    {
     "name": "stdout",
     "output_type": "stream",
     "text": [
      "Batch 175/200 - BLEU: 0.5327\n"
     ]
    },
    {
     "name": "stderr",
     "output_type": "stream",
     "text": [
      "Processing Batches:  88%|██████████████████████████████▊    | 176/200 [1:05:20<09:53, 24.73s/it]"
     ]
    },
    {
     "name": "stdout",
     "output_type": "stream",
     "text": [
      "Batch 176/200 - BLEU: 0.6112\n"
     ]
    },
    {
     "name": "stderr",
     "output_type": "stream",
     "text": [
      "Processing Batches:  88%|██████████████████████████████▉    | 177/200 [1:05:46<09:37, 25.09s/it]"
     ]
    },
    {
     "name": "stdout",
     "output_type": "stream",
     "text": [
      "Batch 177/200 - BLEU: 0.5194\n"
     ]
    },
    {
     "name": "stderr",
     "output_type": "stream",
     "text": [
      "Processing Batches:  89%|███████████████████████████████▏   | 178/200 [1:06:16<09:46, 26.67s/it]"
     ]
    },
    {
     "name": "stdout",
     "output_type": "stream",
     "text": [
      "Batch 178/200 - BLEU: 0.5539\n"
     ]
    },
    {
     "name": "stderr",
     "output_type": "stream",
     "text": [
      "Processing Batches:  90%|███████████████████████████████▎   | 179/200 [1:06:44<09:24, 26.88s/it]"
     ]
    },
    {
     "name": "stdout",
     "output_type": "stream",
     "text": [
      "Batch 179/200 - BLEU: 0.6144\n"
     ]
    },
    {
     "name": "stderr",
     "output_type": "stream",
     "text": [
      "Processing Batches:  90%|███████████████████████████████▌   | 180/200 [1:07:10<08:56, 26.80s/it]"
     ]
    },
    {
     "name": "stdout",
     "output_type": "stream",
     "text": [
      "Batch 180/200 - BLEU: 0.6017\n"
     ]
    },
    {
     "name": "stderr",
     "output_type": "stream",
     "text": [
      "Processing Batches:  90%|███████████████████████████████▋   | 181/200 [1:07:34<08:10, 25.82s/it]"
     ]
    },
    {
     "name": "stdout",
     "output_type": "stream",
     "text": [
      "Batch 181/200 - BLEU: 0.5647\n"
     ]
    },
    {
     "name": "stderr",
     "output_type": "stream",
     "text": [
      "Processing Batches:  91%|███████████████████████████████▊   | 182/200 [1:08:00<07:44, 25.82s/it]"
     ]
    },
    {
     "name": "stdout",
     "output_type": "stream",
     "text": [
      "Batch 182/200 - BLEU: 0.5360\n"
     ]
    },
    {
     "name": "stderr",
     "output_type": "stream",
     "text": [
      "Processing Batches:  92%|████████████████████████████████   | 183/200 [1:08:24<07:08, 25.22s/it]"
     ]
    },
    {
     "name": "stdout",
     "output_type": "stream",
     "text": [
      "Batch 183/200 - BLEU: 0.5945\n"
     ]
    },
    {
     "name": "stderr",
     "output_type": "stream",
     "text": [
      "Processing Batches:  92%|████████████████████████████████▏  | 184/200 [1:08:48<06:38, 24.89s/it]"
     ]
    },
    {
     "name": "stdout",
     "output_type": "stream",
     "text": [
      "Batch 184/200 - BLEU: 0.6083\n"
     ]
    },
    {
     "name": "stderr",
     "output_type": "stream",
     "text": [
      "Processing Batches:  92%|████████████████████████████████▍  | 185/200 [1:09:12<06:10, 24.67s/it]"
     ]
    },
    {
     "name": "stdout",
     "output_type": "stream",
     "text": [
      "Batch 185/200 - BLEU: 0.6148\n"
     ]
    },
    {
     "name": "stderr",
     "output_type": "stream",
     "text": [
      "Processing Batches:  93%|████████████████████████████████▌  | 186/200 [1:09:35<05:40, 24.34s/it]"
     ]
    },
    {
     "name": "stdout",
     "output_type": "stream",
     "text": [
      "Batch 186/200 - BLEU: 0.5855\n"
     ]
    },
    {
     "name": "stderr",
     "output_type": "stream",
     "text": [
      "Processing Batches:  94%|████████████████████████████████▋  | 187/200 [1:09:56<05:01, 23.16s/it]"
     ]
    },
    {
     "name": "stdout",
     "output_type": "stream",
     "text": [
      "Batch 187/200 - BLEU: 0.5457\n"
     ]
    },
    {
     "name": "stderr",
     "output_type": "stream",
     "text": [
      "Processing Batches:  94%|████████████████████████████████▉  | 188/200 [1:10:22<04:47, 23.98s/it]"
     ]
    },
    {
     "name": "stdout",
     "output_type": "stream",
     "text": [
      "Batch 188/200 - BLEU: 0.5621\n"
     ]
    },
    {
     "name": "stderr",
     "output_type": "stream",
     "text": [
      "Processing Batches:  94%|█████████████████████████████████  | 189/200 [1:10:46<04:26, 24.21s/it]"
     ]
    },
    {
     "name": "stdout",
     "output_type": "stream",
     "text": [
      "Batch 189/200 - BLEU: 0.5900\n"
     ]
    },
    {
     "name": "stderr",
     "output_type": "stream",
     "text": [
      "Processing Batches:  95%|█████████████████████████████████▎ | 190/200 [1:11:09<03:56, 23.66s/it]"
     ]
    },
    {
     "name": "stdout",
     "output_type": "stream",
     "text": [
      "Batch 190/200 - BLEU: 0.5658\n"
     ]
    },
    {
     "name": "stderr",
     "output_type": "stream",
     "text": [
      "Processing Batches:  96%|█████████████████████████████████▍ | 191/200 [1:11:31<03:29, 23.28s/it]"
     ]
    },
    {
     "name": "stdout",
     "output_type": "stream",
     "text": [
      "Batch 191/200 - BLEU: 0.5607\n"
     ]
    },
    {
     "name": "stderr",
     "output_type": "stream",
     "text": [
      "Processing Batches:  96%|█████████████████████████████████▌ | 192/200 [1:11:54<03:05, 23.19s/it]"
     ]
    },
    {
     "name": "stdout",
     "output_type": "stream",
     "text": [
      "Batch 192/200 - BLEU: 0.6202\n"
     ]
    },
    {
     "name": "stderr",
     "output_type": "stream",
     "text": [
      "Processing Batches:  96%|█████████████████████████████████▊ | 193/200 [1:12:18<02:43, 23.37s/it]"
     ]
    },
    {
     "name": "stdout",
     "output_type": "stream",
     "text": [
      "Batch 193/200 - BLEU: 0.5580\n"
     ]
    },
    {
     "name": "stderr",
     "output_type": "stream",
     "text": [
      "Processing Batches:  97%|█████████████████████████████████▉ | 194/200 [1:12:41<02:20, 23.34s/it]"
     ]
    },
    {
     "name": "stdout",
     "output_type": "stream",
     "text": [
      "Batch 194/200 - BLEU: 0.5749\n"
     ]
    },
    {
     "name": "stderr",
     "output_type": "stream",
     "text": [
      "Processing Batches:  98%|██████████████████████████████████▏| 195/200 [1:13:06<01:59, 23.87s/it]"
     ]
    },
    {
     "name": "stdout",
     "output_type": "stream",
     "text": [
      "Batch 195/200 - BLEU: 0.6158\n"
     ]
    },
    {
     "name": "stderr",
     "output_type": "stream",
     "text": [
      "Processing Batches:  98%|██████████████████████████████████▎| 196/200 [1:13:32<01:37, 24.39s/it]"
     ]
    },
    {
     "name": "stdout",
     "output_type": "stream",
     "text": [
      "Batch 196/200 - BLEU: 0.5962\n"
     ]
    },
    {
     "name": "stderr",
     "output_type": "stream",
     "text": [
      "Processing Batches:  98%|██████████████████████████████████▍| 197/200 [1:14:02<01:18, 26.05s/it]"
     ]
    },
    {
     "name": "stdout",
     "output_type": "stream",
     "text": [
      "Batch 197/200 - BLEU: 0.5639\n"
     ]
    },
    {
     "name": "stderr",
     "output_type": "stream",
     "text": [
      "Processing Batches:  99%|██████████████████████████████████▋| 198/200 [1:14:27<00:51, 25.63s/it]"
     ]
    },
    {
     "name": "stdout",
     "output_type": "stream",
     "text": [
      "Batch 198/200 - BLEU: 0.5918\n"
     ]
    },
    {
     "name": "stderr",
     "output_type": "stream",
     "text": [
      "Processing Batches: 100%|██████████████████████████████████▊| 199/200 [1:14:52<00:25, 25.50s/it]"
     ]
    },
    {
     "name": "stdout",
     "output_type": "stream",
     "text": [
      "Batch 199/200 - BLEU: 0.6377\n"
     ]
    },
    {
     "name": "stderr",
     "output_type": "stream",
     "text": [
      "Processing Batches: 100%|███████████████████████████████████| 200/200 [1:15:15<00:00, 22.58s/it]\n"
     ]
    },
    {
     "name": "stdout",
     "output_type": "stream",
     "text": [
      "Batch 200/200 - BLEU: 0.6008\n",
      "\n",
      "Batch-wise BLEU Scores:\n",
      "Batch 1: 0.6058\n",
      "Batch 2: 0.4801\n",
      "Batch 3: 0.5153\n",
      "Batch 4: 0.4824\n",
      "Batch 5: 0.5807\n",
      "Batch 6: 0.5248\n",
      "Batch 7: 0.2587\n",
      "Batch 8: 0.3148\n",
      "Batch 9: 0.5687\n",
      "Batch 10: 0.5494\n",
      "Batch 11: 0.5679\n",
      "Batch 12: 0.5710\n",
      "Batch 13: 0.4650\n",
      "Batch 14: 0.5904\n",
      "Batch 15: 0.5820\n",
      "Batch 16: 0.5178\n",
      "Batch 17: 0.5154\n",
      "Batch 18: 0.5193\n",
      "Batch 19: 0.4960\n",
      "Batch 20: 0.5348\n",
      "Batch 21: 0.5323\n",
      "Batch 22: 0.5218\n",
      "Batch 23: 0.5450\n",
      "Batch 24: 0.3233\n",
      "Batch 25: 0.2270\n",
      "Batch 26: 0.2372\n",
      "Batch 27: 0.3126\n",
      "Batch 28: 0.2634\n",
      "Batch 29: 0.2400\n",
      "Batch 30: 0.2409\n",
      "Batch 31: 0.3108\n",
      "Batch 32: 0.2787\n",
      "Batch 33: 0.2597\n",
      "Batch 34: 0.3145\n",
      "Batch 35: 0.2649\n",
      "Batch 36: 0.2655\n",
      "Batch 37: 0.2550\n",
      "Batch 38: 0.2992\n",
      "Batch 39: 0.2633\n",
      "Batch 40: 0.2588\n",
      "Batch 41: 0.2977\n",
      "Batch 42: 0.3012\n",
      "Batch 43: 0.2767\n",
      "Batch 44: 0.2292\n",
      "Batch 45: 0.2369\n",
      "Batch 46: 0.2493\n",
      "Batch 47: 0.2658\n",
      "Batch 48: 0.2504\n",
      "Batch 49: 0.2607\n",
      "Batch 50: 0.2222\n",
      "Batch 51: 0.2455\n",
      "Batch 52: 0.2455\n",
      "Batch 53: 0.2517\n",
      "Batch 54: 0.2542\n",
      "Batch 55: 0.2667\n",
      "Batch 56: 0.2480\n",
      "Batch 57: 0.2459\n",
      "Batch 58: 0.4680\n",
      "Batch 59: 0.5499\n",
      "Batch 60: 0.5095\n",
      "Batch 61: 0.5843\n",
      "Batch 62: 0.5766\n",
      "Batch 63: 0.4886\n",
      "Batch 64: 0.4668\n",
      "Batch 65: 0.4987\n",
      "Batch 66: 0.6011\n",
      "Batch 67: 0.5654\n",
      "Batch 68: 0.5591\n",
      "Batch 69: 0.6152\n",
      "Batch 70: 0.5786\n",
      "Batch 71: 0.5695\n",
      "Batch 72: 0.5883\n",
      "Batch 73: 0.5896\n",
      "Batch 74: 0.5867\n",
      "Batch 75: 0.5490\n",
      "Batch 76: 0.4909\n",
      "Batch 77: 0.5778\n",
      "Batch 78: 0.5376\n",
      "Batch 79: 0.5621\n",
      "Batch 80: 0.5360\n",
      "Batch 81: 0.5265\n",
      "Batch 82: 0.5683\n",
      "Batch 83: 0.5415\n",
      "Batch 84: 0.5292\n",
      "Batch 85: 0.5313\n",
      "Batch 86: 0.5107\n",
      "Batch 87: 0.5102\n",
      "Batch 88: 0.5496\n",
      "Batch 89: 0.4903\n",
      "Batch 90: 0.5779\n",
      "Batch 91: 0.5656\n",
      "Batch 92: 0.4995\n",
      "Batch 93: 0.5618\n",
      "Batch 94: 0.5528\n",
      "Batch 95: 0.5749\n",
      "Batch 96: 0.5477\n",
      "Batch 97: 0.5380\n",
      "Batch 98: 0.5034\n",
      "Batch 99: 0.5835\n",
      "Batch 100: 0.5671\n",
      "Batch 101: 0.5966\n",
      "Batch 102: 0.5683\n",
      "Batch 103: 0.6228\n",
      "Batch 104: 0.6154\n",
      "Batch 105: 0.6038\n",
      "Batch 106: 0.5141\n",
      "Batch 107: 0.5868\n",
      "Batch 108: 0.5452\n",
      "Batch 109: 0.6252\n",
      "Batch 110: 0.6021\n",
      "Batch 111: 0.5631\n",
      "Batch 112: 0.5599\n",
      "Batch 113: 0.5302\n",
      "Batch 114: 0.5706\n",
      "Batch 115: 0.6118\n",
      "Batch 116: 0.5762\n",
      "Batch 117: 0.5502\n",
      "Batch 118: 0.5517\n",
      "Batch 119: 0.5230\n",
      "Batch 120: 0.5891\n",
      "Batch 121: 0.5867\n",
      "Batch 122: 0.5629\n",
      "Batch 123: 0.5638\n",
      "Batch 124: 0.5843\n",
      "Batch 125: 0.5552\n",
      "Batch 126: 0.4625\n",
      "Batch 127: 0.5191\n",
      "Batch 128: 0.5423\n",
      "Batch 129: 0.6085\n",
      "Batch 130: 0.5920\n",
      "Batch 131: 0.2640\n",
      "Batch 132: 0.2610\n",
      "Batch 133: 0.2452\n",
      "Batch 134: 0.2196\n",
      "Batch 135: 0.2898\n",
      "Batch 136: 0.2899\n",
      "Batch 137: 0.2744\n",
      "Batch 138: 0.2582\n",
      "Batch 139: 0.2757\n",
      "Batch 140: 0.2721\n",
      "Batch 141: 0.3022\n",
      "Batch 142: 0.2539\n",
      "Batch 143: 0.2892\n",
      "Batch 144: 0.2910\n",
      "Batch 145: 0.2551\n",
      "Batch 146: 0.2673\n",
      "Batch 147: 0.2772\n",
      "Batch 148: 0.2605\n",
      "Batch 149: 0.2697\n",
      "Batch 150: 0.2512\n",
      "Batch 151: 0.2872\n",
      "Batch 152: 0.2346\n",
      "Batch 153: 0.2563\n",
      "Batch 154: 0.2311\n",
      "Batch 155: 0.2380\n",
      "Batch 156: 0.2432\n",
      "Batch 157: 0.2506\n",
      "Batch 158: 0.2678\n",
      "Batch 159: 0.2853\n",
      "Batch 160: 0.2489\n",
      "Batch 161: 0.5669\n",
      "Batch 162: 0.5875\n",
      "Batch 163: 0.5894\n",
      "Batch 164: 0.5827\n",
      "Batch 165: 0.6049\n",
      "Batch 166: 0.5849\n",
      "Batch 167: 0.5709\n",
      "Batch 168: 0.5726\n",
      "Batch 169: 0.5131\n",
      "Batch 170: 0.6345\n",
      "Batch 171: 0.6038\n",
      "Batch 172: 0.5810\n",
      "Batch 173: 0.5970\n",
      "Batch 174: 0.6044\n",
      "Batch 175: 0.5327\n",
      "Batch 176: 0.6112\n",
      "Batch 177: 0.5194\n",
      "Batch 178: 0.5539\n",
      "Batch 179: 0.6144\n",
      "Batch 180: 0.6017\n",
      "Batch 181: 0.5647\n",
      "Batch 182: 0.5360\n",
      "Batch 183: 0.5945\n",
      "Batch 184: 0.6083\n",
      "Batch 185: 0.6148\n",
      "Batch 186: 0.5855\n",
      "Batch 187: 0.5457\n",
      "Batch 188: 0.5621\n",
      "Batch 189: 0.5900\n",
      "Batch 190: 0.5658\n",
      "Batch 191: 0.5607\n",
      "Batch 192: 0.6202\n",
      "Batch 193: 0.5580\n",
      "Batch 194: 0.5749\n",
      "Batch 195: 0.6158\n",
      "Batch 196: 0.5962\n",
      "Batch 197: 0.5639\n",
      "Batch 198: 0.5918\n",
      "Batch 199: 0.6377\n",
      "Batch 200: 0.6008\n",
      "\n",
      "Overall BLEU Score for 5000 samples: 0.4800\n"
     ]
    }
   ],
   "source": [
    "from transformers import AutoModelForSeq2SeqLM, AutoTokenizer\n",
    "from nltk.translate.bleu_score import corpus_bleu\n",
    "from tqdm import tqdm\n",
    "import torch\n",
    "\n",
    "# Language codes\n",
    "src_lang = \"hin\"  # Hindi\n",
    "tgt_lang = \"tam\"  # Tamil\n",
    "\n",
    "# Read and process data\n",
    "with open(\"Hindi_Tamil_Tourism.hi\", \"r\", encoding=\"utf-8\") as f:\n",
    "    hindi_sentences = [s.strip() for s in f.readlines()[:5000]]  \n",
    "\n",
    "with open(\"Hindi_Tamil_Tourism.ta\", \"r\", encoding=\"utf-8\") as f:\n",
    "    tamil_sentences = [s.strip() for s in f.readlines()[:5000]]\n",
    "\n",
    "# Batch processing parameters\n",
    "batch_size = 25\n",
    "num_batches = 200\n",
    "total_samples = batch_size * num_batches\n",
    "\n",
    "# Results storage\n",
    "all_translated = []\n",
    "all_references = []\n",
    "batch_bleu_scores = []\n",
    "\n",
    "# Process in batches with progress bar\n",
    "for batch_idx in tqdm(range(num_batches), desc=\"Processing Batches\"):\n",
    "    start_idx = batch_idx * batch_size\n",
    "    end_idx = start_idx + batch_size\n",
    "    \n",
    "    # Get current batch\n",
    "    hindi_batch = hindi_sentences[start_idx:end_idx]\n",
    "    tamil_batch = tamil_sentences[start_idx:end_idx]\n",
    "    \n",
    "    # Translate batch\n",
    "    translated_batch = []\n",
    "    for sentence in hindi_batch:\n",
    "        input_text = f\"[{src_lang}] {sentence}\"\n",
    "        inputs = tokenizer(input_text, return_tensors=\"pt\").to(\"cuda\")\n",
    "        with torch.no_grad():\n",
    "            output_tokens = model.generate(**inputs, tgt_lang=tgt_lang)\n",
    "        translated_text = tokenizer.decode(output_tokens[0], skip_special_tokens=True)\n",
    "        translated_batch.append(translated_text)\n",
    "    \n",
    "        # Calculate batch BLEU\n",
    "    references = [[ref] for ref in tamil_batch]  # Wrap each reference in list\n",
    "    batch_bleu = corpus_bleu(references, translated_batch)  # Direct float value\n",
    "    batch_bleu_scores.append(batch_bleu)\n",
    "    \n",
    "    # Store results\n",
    "    all_translated.extend(translated_batch)\n",
    "    all_references.extend(tamil_batch)\n",
    "\n",
    "    # Optional: Print batch progress\n",
    "    tqdm.write(f\"Batch {batch_idx+1}/{num_batches} - BLEU: {batch_bleu:.4f}\")\n",
    "\n",
    "# Calculate overall BLEU\n",
    "overall_references = [[ref] for ref in all_references]\n",
    "overall_bleu = corpus_bleu(overall_references, all_translated)\n",
    "\n",
    "# Print results\n",
    "print(\"\\nBatch-wise BLEU Scores:\")\n",
    "for i, score in enumerate(batch_bleu_scores):\n",
    "    print(f\"Batch {i+1}: {score:.4f}\")\n",
    "\n",
    "print(f\"\\nOverall BLEU Score for {total_samples} samples: {overall_bleu:.4f}\")"
   ]
  },
  {
   "cell_type": "code",
   "execution_count": null,
   "metadata": {},
   "outputs": [],
   "source": []
  }
 ],
 "metadata": {
  "kernelspec": {
   "display_name": "Python 3 (ipykernel)",
   "language": "python",
   "name": "python3"
  },
  "language_info": {
   "codemirror_mode": {
    "name": "ipython",
    "version": 3
   },
   "file_extension": ".py",
   "mimetype": "text/x-python",
   "name": "python",
   "nbconvert_exporter": "python",
   "pygments_lexer": "ipython3",
   "version": "3.12.7"
  }
 },
 "nbformat": 4,
 "nbformat_minor": 4
}
